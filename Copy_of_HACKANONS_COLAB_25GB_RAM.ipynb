{
  "nbformat": 4,
  "nbformat_minor": 0,
  "metadata": {
    "colab": {
      "name": "Copy of HACKANONS COLAB 25GB RAM.ipynb",
      "provenance": [],
      "collapsed_sections": [],
      "machine_shape": "hm"
    },
    "kernelspec": {
      "name": "python3",
      "display_name": "Python 3"
    },
    "accelerator": "GPU"
  },
  "cells": [
    {
      "cell_type": "markdown",
      "metadata": {
        "id": "4cbgwZWWfWpp"
      },
      "source": [
        "# New Section"
      ]
    },
    {
      "cell_type": "code",
      "metadata": {
        "id": "tAb77yZ9fzMG"
      },
      "source": [
        "import numpy as np\r\n",
        "import pandas as pd\r\n",
        "import re\r\n",
        "\r\n",
        "import tensorflow as tf\r\n",
        "from tensorflow.keras import Model\r\n",
        "from tensorflow.keras.layers import Input, Dense, Dropout, BatchNormalization\r\n",
        "\r\n",
        "from sklearn.feature_extraction.text import TfidfVectorizer\r\n",
        "from sklearn.preprocessing import OneHotEncoder\r\n",
        "from sklearn.model_selection import train_test_split, RandomizedSearchCV\r\n",
        "from sklearn.linear_model import Ridge, Lasso\r\n",
        "from xgboost import XGBRegressor\r\n",
        "\r\n",
        "from nltk.tokenize import word_tokenize\r\n",
        "import gensim.models\r\n",
        "\r\n",
        "from scipy.sparse import hstack\r\n",
        "from sklearn.metrics import mean_squared_log_error\r\n",
        "\r\n",
        "from prettytable import PrettyTable\r\n",
        "\r\n",
        "import joblib\r\n",
        "import gc\r\n",
        "\r\n",
        "import warnings\r\n",
        "warnings.filterwarnings('ignore')\r\n",
        "import pickle"
      ],
      "execution_count": 1,
      "outputs": []
    },
    {
      "cell_type": "code",
      "metadata": {
        "id": "pafL7Li0jyXW",
        "colab": {
          "base_uri": "https://localhost:8080/"
        },
        "outputId": "96c15994-5ced-4e2c-e9a7-89f374636db1"
      },
      "source": [
        "\r\n",
        "from google.colab import drive\r\n",
        "drive.mount('/content/drive')"
      ],
      "execution_count": 2,
      "outputs": [
        {
          "output_type": "stream",
          "text": [
            "Mounted at /content/drive\n"
          ],
          "name": "stdout"
        }
      ]
    },
    {
      "cell_type": "code",
      "metadata": {
        "id": "yBxIZP6DCV2p"
      },
      "source": [
        "data_new = pd.read_csv(\"/content/drive/My Drive/new/data_new.csv\")\r\n",
        "#df_test = pd.read_csv('/content/drive/My Drive/new/test_stg2.tsv', sep='\\t')\r\n",
        "#test_ids = df_test['test_id'].values"
      ],
      "execution_count": 3,
      "outputs": []
    },
    {
      "cell_type": "code",
      "metadata": {
        "id": "XDC1VhXXCcaC"
      },
      "source": [
        "Y=  np.log1p(data_new['price'])"
      ],
      "execution_count": 4,
      "outputs": []
    },
    {
      "cell_type": "code",
      "metadata": {
        "id": "GyaN2ViWDSm7"
      },
      "source": [
        "X_train, X_cv, y_train, y_cv = train_test_split(data_new, Y, test_size=0.10)\r\n",
        "#X_train, X_cv, y_train, y_cv = train_test_split(X_train, y_train, test_size=0.33)\r\n"
      ],
      "execution_count": 5,
      "outputs": []
    },
    {
      "cell_type": "code",
      "metadata": {
        "id": "4I9ZmQnteCBp"
      },
      "source": [
        "del data_new\r\n",
        "del Y"
      ],
      "execution_count": 6,
      "outputs": []
    },
    {
      "cell_type": "code",
      "metadata": {
        "id": "BRBoMpiqDVyo"
      },
      "source": [
        "#Convert No description yet to ''\r\n",
        "def handle_text(X_train):\r\n",
        "  X_train.fillna('', inplace=True)\r\n",
        "  #X_cv.fillna('', inplace=True)\r\n",
        "  #df_test.fillna('', inplace=True)\r\n",
        "  X_train['item_description']  = X_train['item_description'].str.replace('^no description yet$', '', regex=True)\r\n",
        " # X_cv['item_description']     = X_cv['item_description'].str.replace('^no description yet$', '', regex=True)\r\n",
        "  X_train['name'] = X_train['name'] + \" \" + X_train['brand_name']\r\n",
        "  X_train['text'] = X_train['item_description'] + \" \" + X_train['name'] + \" \" + X_train['category_name']\r\n",
        "\r\n",
        "\r\n",
        "  X_train['name'] = X_train['name'].apply(lambda x : decontracted(x))\r\n",
        "  X_train['text'] = X_train['text'].apply(lambda x : decontracted(x))\r\n",
        "  return X_train['name'],X_train['text']\r\n",
        "  #df_test['item_description']  = df_test['item_description'].str.replace('^no description yet$', '', regex=True)"
      ],
      "execution_count": 7,
      "outputs": []
    },
    {
      "cell_type": "code",
      "metadata": {
        "id": "b7KMPkO5DzGS"
      },
      "source": [
        "# Ref: AAIC Notebook for Donors' Choose\r\n",
        "def decontracted(sent):\r\n",
        "    '''\r\n",
        "    Task:   This Function changes common short forms like can't, won't to can not, will not resp. (Decontraction)\r\n",
        "            This is done to ensure uniformity in the whole text\r\n",
        "    Input:  Raw Text\r\n",
        "    Output: Decontracted Text\r\n",
        "    '''\r\n",
        "    sent = re.sub(r\"aren\\'t\", \"are not\", sent)\r\n",
        "    sent = re.sub(r\"didn\\'t\", \"did not\", sent)\r\n",
        "    sent = re.sub(r\"can\\'t\", \"can not\", sent)\r\n",
        "    sent = re.sub(r\"couldn\\'t\", \"could not\", sent)\r\n",
        "    sent = re.sub(r\"won\\'t\", \"would not\", sent)\r\n",
        "    sent = re.sub(r\"wouldn\\'t\", \"would not\", sent)\r\n",
        "    sent = re.sub(r\"haven\\'t\", \"have not\", sent)\r\n",
        "    sent = re.sub(r\"shouldn\\'t\", \"should not\", sent)\r\n",
        "    sent = re.sub(r\"doesn\\'t\", \"does not\", sent)\r\n",
        "    sent = re.sub(r\"don\\'t\", \"do not\", sent)\r\n",
        "    sent = re.sub(r\"didn\\'t\", \"did not\", sent)\r\n",
        "    sent = re.sub(r\"mustn\\'t\", \"must not\", sent)\r\n",
        "    sent = re.sub(r\"needn\\'t\", \"need not\", sent)\r\n",
        "    \r\n",
        "    return sent"
      ],
      "execution_count": 8,
      "outputs": []
    },
    {
      "cell_type": "code",
      "metadata": {
        "id": "43yYf9iJEUUm"
      },
      "source": [
        "name_train,text_train=handle_text(X_train)"
      ],
      "execution_count": 9,
      "outputs": []
    },
    {
      "cell_type": "code",
      "metadata": {
        "id": "P7-ihJQwFMaP"
      },
      "source": [
        "name_cv,text_cv=handle_text(X_cv)"
      ],
      "execution_count": 10,
      "outputs": []
    },
    {
      "cell_type": "code",
      "metadata": {
        "id": "IXEQGEJGDZeY"
      },
      "source": [
        "# loading weights for fasttext\r\n",
        "#model_fasttext = KeyedVectors.load_word2vec_format('/content/drive/My Drive/new/wiki-news-300d-1M.vec', binary=False)\r\n",
        "# stronging variables into pickle files python: http://www.jessicayung.com/how-to-use-pickle-to-save-and-load-variables-in-python/\r\n",
        "# make sure you have the glove_vectors file\r\n",
        "with open('drive/My Drive/new/glove_vectors', 'rb') as f:\r\n",
        "    model_fasttext = pickle.load(f)\r\n",
        "    glove_words =  set(model_fasttext.keys())"
      ],
      "execution_count": 11,
      "outputs": []
    },
    {
      "cell_type": "code",
      "metadata": {
        "id": "7ckg-pn-DeD2"
      },
      "source": [
        "\r\n",
        "def one_hot_encoder(train, valid):\r\n",
        "    '''\r\n",
        "    This function returns the One Hot Encoded vectors for the given train and CV data\r\n",
        "    Input ->\r\n",
        "        train_data : Training data to be one hot encoded (List of integers/strings or a Pandas Series)\r\n",
        "        cv_data    : Cross Validation data to be one hot encoded (List of integers/strings or a Pandas Series)\r\n",
        "    Output -> Tuple of One hot encoded vectors of training and CV data\r\n",
        "    Task   -> This function converts the raw values (integers/strings) into one hot encoded vectors using\r\n",
        "              sklearn's OneHotEncoder()\r\n",
        "    '''\r\n",
        "    global  vectorizer3, vectorizer4\r\n",
        "    vectorizer3 = OneHotEncoder(dtype=np.float32)\r\n",
        "    train_shipvec = vectorizer3.fit_transform(train['shipping'].values.reshape(-1, 1))\r\n",
        "    \r\n",
        "    \r\n",
        "    \r\n",
        "    vectorizer4 = OneHotEncoder(dtype=np.float32)\r\n",
        "    train_conditionvec = vectorizer4.fit_transform(train['item_condition_id'].values.reshape(-1, 1))\r\n",
        "    \r\n",
        "    X_train = hstack(( train_shipvec, train_conditionvec)).tocsr()\r\n",
        "    \r\n",
        "    valid_shipvec = vectorizer3.transform(valid['shipping'].values.reshape(-1, 1))\r\n",
        "\r\n",
        "    valid_conditionvec = vectorizer4.transform(valid['item_condition_id'].values.reshape(-1, 1))\r\n",
        "\r\n",
        "    X_valid = hstack((valid_shipvec, valid_conditionvec)).tocsr()\r\n",
        "    \r\n",
        "\r\n",
        "    return X_train,X_valid"
      ],
      "execution_count": 12,
      "outputs": []
    },
    {
      "cell_type": "code",
      "metadata": {
        "id": "Rf4xLWWsDvE8"
      },
      "source": [
        ""
      ],
      "execution_count": 12,
      "outputs": []
    },
    {
      "cell_type": "code",
      "metadata": {
        "id": "pBcbLdjXD5lE"
      },
      "source": [
        "\r\n",
        "#df_test['name'] = df_test['name'].apply(lambda x : decontracted(x))\r\n",
        "#df_test['text'] = df_test['text'].apply(lambda x : decontracted(x))"
      ],
      "execution_count": 13,
      "outputs": []
    },
    {
      "cell_type": "code",
      "metadata": {
        "id": "Aci1G39aEAvb"
      },
      "source": [
        "#Defining some special regexes which would be used in the function text_preprocessing() to clean the text\r\n",
        "regex_special_chars = re.compile('[^A-Za-z0-9.]+')\r\n",
        "regex_decimal_digits = re.compile('(?<!\\d)\\.(?!\\d)')\r\n",
        "regex_white_space = re.compile(r'\\s+')"
      ],
      "execution_count": null,
      "outputs": []
    },
    {
      "cell_type": "code",
      "metadata": {
        "id": "ELzRi30JEFNB"
      },
      "source": [
        "def text_preprocessing(sent):\r\n",
        "    '''\r\n",
        "    Input  -> Raw text (string)\r\n",
        "    Output -> Cleaned Text (string)\r\n",
        "    Task   -> The objective of this function is to clean the text and make it suitable for Bag of Words/TF-IDF vectorization\r\n",
        "              This includes removal of new lines, special characters, emojis etc.\r\n",
        "    \r\n",
        "    '''\r\n",
        "    #Removing special characters such as carriage return and newline character\r\n",
        "    sent = sent.replace('\\\\r', ' ')\r\n",
        "    sent = sent.replace('\\\\n', ' ')\r\n",
        "\r\n",
        "    #Removing all special characters except the period\r\n",
        "    sent = regex_special_chars.sub(' ', sent)\r\n",
        "    \r\n",
        "    #Removing periods which are not either followed or preceeded by a digit\r\n",
        "    #Ref: https://stackoverflow.com/questions/6599646/remove-decimal-point-when-not-between-two-digits\r\n",
        "    \r\n",
        "    sent = regex_decimal_digits.sub(' ', sent)\r\n",
        "    \r\n",
        "    #Converting multiple white spaces to single white space\r\n",
        "    sent = regex_white_space.sub(' ', sent)\r\n",
        "    \r\n",
        "    #Removing space at starting and ending and converting to lower case\r\n",
        "    sent = sent.strip().lower()\r\n",
        "    \r\n",
        "    # Lemmatizing the text: Lemmetization in NLP means to convert similar words to the same word while taking care of grammar\r\n",
        "    sent_list = sent.split()\r\n",
        "    lem = WordNetLemmatizer()\r\n",
        "    text = [lem.lemmatize(word) for word in sent_list if word not in stop_words] \r\n",
        "    sent = \" \".join(text)\r\n",
        "    \r\n",
        "    return sent"
      ],
      "execution_count": null,
      "outputs": []
    },
    {
      "cell_type": "code",
      "metadata": {
        "id": "lDdaFoX-EIub"
      },
      "source": [
        "from keras.utils import to_categorical\r\n",
        "\r\n",
        "import tensorflow as tf\r\n",
        "\r\n",
        "from keras.preprocessing import sequence\r\n",
        "from keras.preprocessing.text import Tokenizer\r\n",
        "from keras.layers import Dense,Dropout,Embedding,LSTM\r\n",
        "from keras.callbacks import EarlyStopping\r\n",
        "from keras.losses import categorical_crossentropy\r\n",
        "from keras.optimizers import Adam\r\n",
        "from keras.optimizers import Adam\r\n",
        "from keras.models import Sequential\r\n",
        "from tqdm import tqdm\r\n",
        "import warnings\r\n",
        "from tensorflow.keras.layers import Dense\r\n",
        "from tensorflow.keras import Sequential\r\n",
        "from keras.initializers import he_normal\r\n",
        "from keras.preprocessing.text import Tokenizer\r\n",
        "import tensorflow as tf\r\n",
        "from keras.preprocessing.sequence import pad_sequences\r\n",
        "from keras.models import Sequential\r\n",
        "from keras.layers import Input\r\n",
        "from keras.layers import Flatten\r\n",
        "from keras.layers import Embedding\r\n",
        "from keras.preprocessing.sequence import pad_sequences\r\n",
        "from keras.models import Sequential\r\n",
        "from keras.layers import Input\r\n",
        "from keras.layers import Flatten\r\n",
        "from keras.layers import Embedding\r\n",
        "from keras.layers import LSTM,Bidirectional\r\n",
        "from keras.layers.core import Dense, Dropout\r\n",
        "from keras.models import Model, load_model\r\n",
        "from keras.layers.normalization import BatchNormalization\r\n",
        "from keras.callbacks import ReduceLROnPlateau"
      ],
      "execution_count": 14,
      "outputs": []
    },
    {
      "cell_type": "code",
      "metadata": {
        "colab": {
          "base_uri": "https://localhost:8080/"
        },
        "id": "B6eqJDRSEM3Y",
        "outputId": "a0553e2d-b730-4ee3-8fb7-19037ddd4879"
      },
      "source": [
        "#https://subscription.packtpub.com/book/application_development/9781782167853/1/ch01lvl1sec10/tokenizing-sentences-into-words\r\n",
        "global t_1\r\n",
        "t_1 = Tokenizer()\r\n",
        "t_1.fit_on_texts(name_train)\r\n",
        "vocab_size = len(t_1.word_index) + 1\r\n",
        "print('Total unique words in the x_train',vocab_size)\r\n",
        "encoded_train = t_1.texts_to_sequences(name_train)\r\n",
        "encoded_cv=t_1.texts_to_sequences(name_cv)\r\n",
        "#encoded_test = t.texts_to_sequences(df_test['name'])"
      ],
      "execution_count": null,
      "outputs": [
        {
          "output_type": "stream",
          "text": [
            "Total unique words in the x_train 111887\n"
          ],
          "name": "stdout"
        }
      ]
    },
    {
      "cell_type": "code",
      "metadata": {
        "colab": {
          "base_uri": "https://localhost:8080/"
        },
        "id": "919soyF8EQmM",
        "outputId": "deca8852-1ea5-488e-bb01-33e9fc5726ae"
      },
      "source": [
        "max_length = 300\r\n",
        "padded_train = pad_sequences(encoded_train, maxlen=max_length, padding='post')\r\n",
        "padded_cv=pad_sequences(encoded_cv, maxlen=max_length, padding='post')\r\n",
        "#padded_test = pad_sequences(encoded_test, maxlen=max_length, padding='post')\r\n",
        "print(\"length of padded_train data\",len(padded_train))\r\n",
        "print(\"length of padded_test data\",len(padded_cv))"
      ],
      "execution_count": null,
      "outputs": [
        {
          "output_type": "stream",
          "text": [
            "length of padded_train data 1333494\n",
            "length of padded_test data 148167\n"
          ],
          "name": "stdout"
        }
      ]
    },
    {
      "cell_type": "code",
      "metadata": {
        "id": "QVPx3ettEUD0"
      },
      "source": [
        "# for train\r\n",
        "embedding_matrix_train = np.zeros((vocab_size, 300))\r\n",
        "for word, i in t_1.word_index.items():\r\n",
        "    if word in glove_words:\r\n",
        "        embedding_vector = model_fasttext[word]\r\n",
        "        embedding_matrix_train[i] = embedding_vector"
      ],
      "execution_count": null,
      "outputs": []
    },
    {
      "cell_type": "code",
      "metadata": {
        "id": "gKH_GjhdEYIa"
      },
      "source": [
        "#embedding layer name\r\n",
        "from keras.layers import Conv1D, MaxPooling2D\r\n",
        "name = Input(shape=(300,), name='name')\r\n",
        "\r\n",
        "x = Embedding(vocab_size, 300, weights=[embedding_matrix_train],trainable = False, input_length=300)(name)\r\n",
        "lstm_out = LSTM(20,return_sequences=True)(x)\r\n",
        "con1 = Conv1D(32, kernel_size = 3, activation = 'relu', name = 'block_1')(lstm_out)\r\n",
        "lstm_out2 = LSTM(10,return_sequences=True)(con1)\r\n",
        "con2 = Conv1D(16, kernel_size = 3, activation = 'relu', name = 'block_2')(lstm_out2)\r\n",
        "lstm_out3 = LSTM(10,return_sequences=True)(con2)\r\n",
        "flatten_x = Flatten()(lstm_out3)"
      ],
      "execution_count": null,
      "outputs": []
    },
    {
      "cell_type": "code",
      "metadata": {
        "colab": {
          "base_uri": "https://localhost:8080/"
        },
        "id": "tVImoaigEdfH",
        "outputId": "148664b7-6e86-43e4-b9fe-513644499380"
      },
      "source": [
        "#https://subscription.packtpub.com/book/application_development/9781782167853/1/ch01lvl1sec10/tokenizing-sentences-into-words\r\n",
        "global t_2\r\n",
        "t_2 = Tokenizer()\r\n",
        "t_2.fit_on_texts(X_train['text'])\r\n",
        "vocab_size = len(t_2.word_index) + 1\r\n",
        "print('Total unique words in the x_train',vocab_size)\r\n",
        "encoded_train_desc = t_2.texts_to_sequences(X_train['text'])\r\n",
        "encoded_cv_desc = t_2.texts_to_sequences(X_cv['text'])\r\n",
        "#encoded_test_desc = t.texts_to_sequences(df_test['text'])"
      ],
      "execution_count": null,
      "outputs": [
        {
          "output_type": "stream",
          "text": [
            "Total unique words in the x_train 244185\n"
          ],
          "name": "stdout"
        }
      ]
    },
    {
      "cell_type": "code",
      "metadata": {
        "id": "RHJ6seCeEjFT"
      },
      "source": [
        "# for train embedding\r\n",
        "embedding_matrix_train_desc = np.zeros((vocab_size, 300))\r\n",
        "for word, i in t_2.word_index.items():\r\n",
        "    if word in glove_words:\r\n",
        "        embedding_vector = model_fasttext[word]\r\n",
        "        embedding_matrix_train_desc[i] = embedding_vector"
      ],
      "execution_count": null,
      "outputs": []
    },
    {
      "cell_type": "code",
      "metadata": {
        "colab": {
          "base_uri": "https://localhost:8080/"
        },
        "id": "9sfTL3QyEoUU",
        "outputId": "c30a21ea-874b-4237-b960-d0130d12d6d9"
      },
      "source": [
        "#train padding\r\n",
        "max_length = 300\r\n",
        "padded_train_desc = pad_sequences(encoded_train_desc, maxlen=max_length, padding='post')\r\n",
        "padded_cv_desc = pad_sequences(encoded_cv_desc, maxlen=max_length, padding='post')\r\n",
        "#padded_test_desc = pad_sequences(encoded_test_desc, maxlen=max_length, padding='post')\r\n",
        "print(\"length of padded_train data\",len(padded_train_desc))\r\n",
        "#print(\"length of padded_test data\",len(padded_test_desc))"
      ],
      "execution_count": null,
      "outputs": [
        {
          "output_type": "stream",
          "text": [
            "length of padded_train data 1333494\n"
          ],
          "name": "stdout"
        }
      ]
    },
    {
      "cell_type": "code",
      "metadata": {
        "id": "Hp1ErcteEsqB"
      },
      "source": [
        "#embedding layer description\r\n",
        "desc = Input(shape=(300,), name='desc')\r\n",
        "\r\n",
        "y = Embedding(vocab_size, 300, weights=[embedding_matrix_train_desc],trainable = False, input_length=300)(desc)\r\n",
        "lstm_out6 = LSTM(20,return_sequences=True)(y)\r\n",
        "lstm_out7=LSTM(20,return_sequences=True)(lstm_out6)\r\n",
        "con6 = Conv1D(32, kernel_size = 3, activation = 'relu', name = 'block_3')(lstm_out7)\r\n",
        "lstm_out8 = LSTM(20,return_sequences=True)(con6)\r\n",
        "con7 = Conv1D(16, kernel_size = 3, activation = 'relu', name = 'block_4')(lstm_out8)\r\n",
        "lstm_out9 = LSTM(20,return_sequences=True)(con7)\r\n",
        "flatten_y = Flatten()(lstm_out9)\r\n"
      ],
      "execution_count": null,
      "outputs": []
    },
    {
      "cell_type": "code",
      "metadata": {
        "id": "y79pGhlpEw5O",
        "colab": {
          "base_uri": "https://localhost:8080/",
          "height": 231
        },
        "outputId": "f6f327fe-3b98-47c4-fbcd-1455f5fdd5f7"
      },
      "source": [
        "\r\n",
        "X_tr_shipping=X_tr_shipping.todense()\r\n",
        "X_cv_shipping=X_cv_shipping.todense()\r\n",
        "\r\n",
        "X_tr_item_condition=X_tr_item_condition.todense()\r\n",
        "X_cv_item_condition=X_cv_item_condition.todense()\r\n",
        "\r\n",
        "#X_test_shipping=X_test_shipping.todense()\r\n",
        "#X_test_item_condition=X_test_item_condition.todense()"
      ],
      "execution_count": null,
      "outputs": [
        {
          "output_type": "error",
          "ename": "NameError",
          "evalue": "ignored",
          "traceback": [
            "\u001b[0;31m---------------------------------------------------------------------------\u001b[0m",
            "\u001b[0;31mNameError\u001b[0m                                 Traceback (most recent call last)",
            "\u001b[0;32m<ipython-input-26-b8bb8bd89c56>\u001b[0m in \u001b[0;36m<module>\u001b[0;34m()\u001b[0m\n\u001b[1;32m      1\u001b[0m \u001b[0;34m\u001b[0m\u001b[0m\n\u001b[0;32m----> 2\u001b[0;31m \u001b[0mX_tr_shipping\u001b[0m\u001b[0;34m=\u001b[0m\u001b[0mX_tr_shipping\u001b[0m\u001b[0;34m.\u001b[0m\u001b[0mtodense\u001b[0m\u001b[0;34m(\u001b[0m\u001b[0;34m)\u001b[0m\u001b[0;34m\u001b[0m\u001b[0;34m\u001b[0m\u001b[0m\n\u001b[0m\u001b[1;32m      3\u001b[0m \u001b[0mX_cv_shipping\u001b[0m\u001b[0;34m=\u001b[0m\u001b[0mX_cv_shipping\u001b[0m\u001b[0;34m.\u001b[0m\u001b[0mtodense\u001b[0m\u001b[0;34m(\u001b[0m\u001b[0;34m)\u001b[0m\u001b[0;34m\u001b[0m\u001b[0;34m\u001b[0m\u001b[0m\n\u001b[1;32m      4\u001b[0m \u001b[0;34m\u001b[0m\u001b[0m\n\u001b[1;32m      5\u001b[0m \u001b[0mX_tr_item_condition\u001b[0m\u001b[0;34m=\u001b[0m\u001b[0mX_tr_item_condition\u001b[0m\u001b[0;34m.\u001b[0m\u001b[0mtodense\u001b[0m\u001b[0;34m(\u001b[0m\u001b[0;34m)\u001b[0m\u001b[0;34m\u001b[0m\u001b[0;34m\u001b[0m\u001b[0m\n",
            "\u001b[0;31mNameError\u001b[0m: name 'X_tr_shipping' is not defined"
          ]
        }
      ]
    },
    {
      "cell_type": "code",
      "metadata": {
        "id": "oZfEYJfaE0zx"
      },
      "source": [
        "X_tr,X_cv=one_hot_encoder(X_train, X_cv)"
      ],
      "execution_count": 15,
      "outputs": []
    },
    {
      "cell_type": "code",
      "metadata": {
        "colab": {
          "base_uri": "https://localhost:8080/"
        },
        "id": "tYprp3dQYo9-",
        "outputId": "f598bde6-84ae-4b9f-8260-e8ff8b7fd24f"
      },
      "source": [
        "type(X_tr)"
      ],
      "execution_count": null,
      "outputs": [
        {
          "output_type": "execute_result",
          "data": {
            "text/plain": [
              "scipy.sparse.csr.csr_matrix"
            ]
          },
          "metadata": {
            "tags": []
          },
          "execution_count": 28
        }
      ]
    },
    {
      "cell_type": "code",
      "metadata": {
        "id": "1iRpXGP2E48k"
      },
      "source": [
        "other = Input(shape=(X_tr.shape[1],), name=\"other\")\r\n",
        "\r\n",
        "out = Dense(256, activation='relu')(other)\r\n",
        "#out =Dropout(0.1)(out)     ## performance is better without dropouts\r\n",
        "out = Dense(64, activation='relu')(out)\r\n",
        "#out = Dropout(0.1)(out)\r\n",
        "out = Dense(64, activation='relu')(out)\r\n"
      ],
      "execution_count": null,
      "outputs": []
    },
    {
      "cell_type": "code",
      "metadata": {
        "id": "X2tlXp4BE8x9"
      },
      "source": [
        "#concate embedding name,embedding description and other features\r\n",
        "from keras.layers import Concatenate, Dense, LSTM, Input, concatenate\r\n",
        "from keras.layers import Flatten\r\n",
        "from keras.regularizers import l2\r\n",
        "from keras.layers import concatenate\r\n",
        "import keras as k\r\n",
        "\r\n"
      ],
      "execution_count": 16,
      "outputs": []
    },
    {
      "cell_type": "code",
      "metadata": {
        "id": "6GyhUZbry_l3"
      },
      "source": [
        "con_lay = concatenate([flatten_x,flatten_y,out])"
      ],
      "execution_count": null,
      "outputs": []
    },
    {
      "cell_type": "code",
      "metadata": {
        "id": "7HB0s7hZy_wc"
      },
      "source": [
        "X_tr=X_tr.todense()\r\n",
        "X_cv=X_cv.todense()"
      ],
      "execution_count": null,
      "outputs": []
    },
    {
      "cell_type": "code",
      "metadata": {
        "colab": {
          "base_uri": "https://localhost:8080/"
        },
        "id": "K4vXO1p4FA8d",
        "outputId": "b5dcba73-ba6d-4b65-a336-7626375dfdf2"
      },
      "source": [
        "# INPUT DENSE LAYER AFTER CONCAT ALL FEATURES\r\n",
        "# Layer 1\r\n",
        "m_3 = Dense(256, activation = 'relu', kernel_regularizer = l2(0.01))(con_lay)\r\n",
        "#m_3 = Dropout(0.3)(m_3)\r\n",
        "\r\n",
        "# Layer 2\r\n",
        "\r\n",
        "\r\n",
        "# Layer 4\r\n",
        "m_3 = Dense(32, activation = 'relu', kernel_regularizer = l2(0.01))(m_3)\r\n",
        "#m_3 = Dropout(0.3)(m_3)\r\n",
        "\r\n",
        "x = Dense(64, activation='relu',kernel_initializer=\"he_normal\",kernel_regularizer=l2(0.001))(m_3)\r\n",
        "final_output = Dense(1,kernel_initializer=\"he_normal\")(x)\r\n",
        "\r\n",
        "model5 = Model(inputs=[name,desc,other], outputs=[final_output])\r\n",
        "print(model5.summary())\r\n",
        "\r\n"
      ],
      "execution_count": null,
      "outputs": [
        {
          "output_type": "stream",
          "text": [
            "Model: \"model\"\n",
            "__________________________________________________________________________________________________\n",
            "Layer (type)                    Output Shape         Param #     Connected to                     \n",
            "==================================================================================================\n",
            "desc (InputLayer)               [(None, 300)]        0                                            \n",
            "__________________________________________________________________________________________________\n",
            "name (InputLayer)               [(None, 300)]        0                                            \n",
            "__________________________________________________________________________________________________\n",
            "embedding_1 (Embedding)         (None, 300, 300)     73264200    desc[0][0]                       \n",
            "__________________________________________________________________________________________________\n",
            "embedding (Embedding)           (None, 300, 300)     33599100    name[0][0]                       \n",
            "__________________________________________________________________________________________________\n",
            "lstm_3 (LSTM)                   (None, 300, 20)      25680       embedding_1[0][0]                \n",
            "__________________________________________________________________________________________________\n",
            "lstm (LSTM)                     (None, 300, 20)      25680       embedding[0][0]                  \n",
            "__________________________________________________________________________________________________\n",
            "lstm_4 (LSTM)                   (None, 300, 20)      3280        lstm_3[0][0]                     \n",
            "__________________________________________________________________________________________________\n",
            "block_1 (Conv1D)                (None, 298, 32)      1952        lstm[0][0]                       \n",
            "__________________________________________________________________________________________________\n",
            "block_3 (Conv1D)                (None, 298, 32)      1952        lstm_4[0][0]                     \n",
            "__________________________________________________________________________________________________\n",
            "lstm_1 (LSTM)                   (None, 298, 10)      1720        block_1[0][0]                    \n",
            "__________________________________________________________________________________________________\n",
            "lstm_5 (LSTM)                   (None, 298, 20)      4240        block_3[0][0]                    \n",
            "__________________________________________________________________________________________________\n",
            "other (InputLayer)              [(None, 7)]          0                                            \n",
            "__________________________________________________________________________________________________\n",
            "block_2 (Conv1D)                (None, 296, 16)      496         lstm_1[0][0]                     \n",
            "__________________________________________________________________________________________________\n",
            "block_4 (Conv1D)                (None, 296, 16)      976         lstm_5[0][0]                     \n",
            "__________________________________________________________________________________________________\n",
            "dense (Dense)                   (None, 256)          2048        other[0][0]                      \n",
            "__________________________________________________________________________________________________\n",
            "lstm_2 (LSTM)                   (None, 296, 10)      1080        block_2[0][0]                    \n",
            "__________________________________________________________________________________________________\n",
            "lstm_6 (LSTM)                   (None, 296, 20)      2960        block_4[0][0]                    \n",
            "__________________________________________________________________________________________________\n",
            "dense_1 (Dense)                 (None, 64)           16448       dense[0][0]                      \n",
            "__________________________________________________________________________________________________\n",
            "flatten (Flatten)               (None, 2960)         0           lstm_2[0][0]                     \n",
            "__________________________________________________________________________________________________\n",
            "flatten_1 (Flatten)             (None, 5920)         0           lstm_6[0][0]                     \n",
            "__________________________________________________________________________________________________\n",
            "dense_2 (Dense)                 (None, 64)           4160        dense_1[0][0]                    \n",
            "__________________________________________________________________________________________________\n",
            "concatenate (Concatenate)       (None, 8944)         0           flatten[0][0]                    \n",
            "                                                                 flatten_1[0][0]                  \n",
            "                                                                 dense_2[0][0]                    \n",
            "__________________________________________________________________________________________________\n",
            "dense_3 (Dense)                 (None, 256)          2289920     concatenate[0][0]                \n",
            "__________________________________________________________________________________________________\n",
            "dense_4 (Dense)                 (None, 32)           8224        dense_3[0][0]                    \n",
            "__________________________________________________________________________________________________\n",
            "dense_5 (Dense)                 (None, 64)           2112        dense_4[0][0]                    \n",
            "__________________________________________________________________________________________________\n",
            "dense_6 (Dense)                 (None, 1)            65          dense_5[0][0]                    \n",
            "==================================================================================================\n",
            "Total params: 109,256,293\n",
            "Trainable params: 2,392,993\n",
            "Non-trainable params: 106,863,300\n",
            "__________________________________________________________________________________________________\n",
            "None\n"
          ],
          "name": "stdout"
        }
      ]
    },
    {
      "cell_type": "code",
      "metadata": {
        "id": "yrwaXRmEFEM_"
      },
      "source": [
        "train_2 = [padded_train,padded_train_desc,X_tr]\r\n",
        "cv_2=[padded_cv,padded_cv_desc,X_cv]\r\n"
      ],
      "execution_count": null,
      "outputs": []
    },
    {
      "cell_type": "code",
      "metadata": {
        "id": "exJXneS6eUD9"
      },
      "source": [
        "import keras\r\n",
        "from keras.callbacks import ModelCheckpoint\r\n",
        "from keras.layers.normalization import BatchNormalization\r\n",
        "from keras.callbacks import ReduceLROnPlateau\r\n",
        "from keras.callbacks import EarlyStopping"
      ],
      "execution_count": 17,
      "outputs": []
    },
    {
      "cell_type": "code",
      "metadata": {
        "id": "5viByY5seHmT"
      },
      "source": [
        "import datetime\r\n",
        "path=\"/content/drive/My Drive/new/\"\r\n",
        "# Keep only a single checkpoint, the best over test accuracy.\r\n",
        "checkpoint = ModelCheckpoint(path,\r\n",
        "                            monitor='val_mse',\r\n",
        "                            verbose=1,\r\n",
        "                            save_best_only=True,\r\n",
        "                            mode='min')\r\n",
        "\r\n",
        "logdir = \"/content/drive/My Drive/new/logs/scalars/\" \r\n",
        "tensorboard_callback = keras.callbacks.TensorBoard(log_dir=logdir)"
      ],
      "execution_count": null,
      "outputs": []
    },
    {
      "cell_type": "code",
      "metadata": {
        "id": "5bsHAGBeFKuz",
        "colab": {
          "base_uri": "https://localhost:8080/"
        },
        "outputId": "c7786954-2451-4b86-fe8f-418e89fc6a14"
      },
      "source": [
        "model5.compile(optimizer='adam', loss='mean_squared_error', metrics=['mse'])\r\n",
        "model5.fit(train_2, y_train,epochs=50,validation_data=(cv_2, y_cv),batch_size=1024,callbacks=[tensorboard_callback,checkpoint])"
      ],
      "execution_count": null,
      "outputs": [
        {
          "output_type": "stream",
          "text": [
            "Epoch 1/50\n",
            "1303/1303 [==============================] - 452s 333ms/step - loss: 1.1220 - mse: 0.5618 - val_loss: 0.3255 - val_mse: 0.2779\n",
            "\n",
            "Epoch 00001: val_mse improved from inf to 0.27790, saving model to /content/drive/My Drive/new/\n"
          ],
          "name": "stdout"
        },
        {
          "output_type": "stream",
          "text": [
            "WARNING:absl:Found untraced functions such as lstm_cell_3_layer_call_fn, lstm_cell_3_layer_call_and_return_conditional_losses, lstm_cell_layer_call_fn, lstm_cell_layer_call_and_return_conditional_losses, lstm_cell_4_layer_call_fn while saving (showing 5 of 35). These functions will not be directly callable after loading.\n",
            "WARNING:absl:Found untraced functions such as lstm_cell_3_layer_call_fn, lstm_cell_3_layer_call_and_return_conditional_losses, lstm_cell_layer_call_fn, lstm_cell_layer_call_and_return_conditional_losses, lstm_cell_4_layer_call_fn while saving (showing 5 of 35). These functions will not be directly callable after loading.\n"
          ],
          "name": "stderr"
        },
        {
          "output_type": "stream",
          "text": [
            "INFO:tensorflow:Assets written to: /content/drive/My Drive/new/assets\n"
          ],
          "name": "stdout"
        },
        {
          "output_type": "stream",
          "text": [
            "INFO:tensorflow:Assets written to: /content/drive/My Drive/new/assets\n"
          ],
          "name": "stderr"
        },
        {
          "output_type": "stream",
          "text": [
            "Epoch 2/50\n",
            "1303/1303 [==============================] - 428s 328ms/step - loss: 0.3046 - mse: 0.2650 - val_loss: 0.2829 - val_mse: 0.2585\n",
            "\n",
            "Epoch 00002: val_mse improved from 0.27790 to 0.25849, saving model to /content/drive/My Drive/new/\n"
          ],
          "name": "stdout"
        },
        {
          "output_type": "stream",
          "text": [
            "WARNING:absl:Found untraced functions such as lstm_cell_3_layer_call_fn, lstm_cell_3_layer_call_and_return_conditional_losses, lstm_cell_layer_call_fn, lstm_cell_layer_call_and_return_conditional_losses, lstm_cell_4_layer_call_fn while saving (showing 5 of 35). These functions will not be directly callable after loading.\n",
            "WARNING:absl:Found untraced functions such as lstm_cell_3_layer_call_fn, lstm_cell_3_layer_call_and_return_conditional_losses, lstm_cell_layer_call_fn, lstm_cell_layer_call_and_return_conditional_losses, lstm_cell_4_layer_call_fn while saving (showing 5 of 35). These functions will not be directly callable after loading.\n"
          ],
          "name": "stderr"
        },
        {
          "output_type": "stream",
          "text": [
            "INFO:tensorflow:Assets written to: /content/drive/My Drive/new/assets\n"
          ],
          "name": "stdout"
        },
        {
          "output_type": "stream",
          "text": [
            "INFO:tensorflow:Assets written to: /content/drive/My Drive/new/assets\n"
          ],
          "name": "stderr"
        },
        {
          "output_type": "stream",
          "text": [
            "Epoch 3/50\n",
            "1303/1303 [==============================] - 430s 330ms/step - loss: 0.2711 - mse: 0.2495 - val_loss: 0.2584 - val_mse: 0.2429\n",
            "\n",
            "Epoch 00003: val_mse improved from 0.25849 to 0.24291, saving model to /content/drive/My Drive/new/\n"
          ],
          "name": "stdout"
        },
        {
          "output_type": "stream",
          "text": [
            "WARNING:absl:Found untraced functions such as lstm_cell_3_layer_call_fn, lstm_cell_3_layer_call_and_return_conditional_losses, lstm_cell_layer_call_fn, lstm_cell_layer_call_and_return_conditional_losses, lstm_cell_4_layer_call_fn while saving (showing 5 of 35). These functions will not be directly callable after loading.\n",
            "WARNING:absl:Found untraced functions such as lstm_cell_3_layer_call_fn, lstm_cell_3_layer_call_and_return_conditional_losses, lstm_cell_layer_call_fn, lstm_cell_layer_call_and_return_conditional_losses, lstm_cell_4_layer_call_fn while saving (showing 5 of 35). These functions will not be directly callable after loading.\n"
          ],
          "name": "stderr"
        },
        {
          "output_type": "stream",
          "text": [
            "INFO:tensorflow:Assets written to: /content/drive/My Drive/new/assets\n"
          ],
          "name": "stdout"
        },
        {
          "output_type": "stream",
          "text": [
            "INFO:tensorflow:Assets written to: /content/drive/My Drive/new/assets\n"
          ],
          "name": "stderr"
        },
        {
          "output_type": "stream",
          "text": [
            "Epoch 4/50\n",
            "1303/1303 [==============================] - 430s 330ms/step - loss: 0.2564 - mse: 0.2422 - val_loss: 0.2511 - val_mse: 0.2400\n",
            "\n",
            "Epoch 00004: val_mse improved from 0.24291 to 0.24005, saving model to /content/drive/My Drive/new/\n"
          ],
          "name": "stdout"
        },
        {
          "output_type": "stream",
          "text": [
            "WARNING:absl:Found untraced functions such as lstm_cell_3_layer_call_fn, lstm_cell_3_layer_call_and_return_conditional_losses, lstm_cell_layer_call_fn, lstm_cell_layer_call_and_return_conditional_losses, lstm_cell_4_layer_call_fn while saving (showing 5 of 35). These functions will not be directly callable after loading.\n",
            "WARNING:absl:Found untraced functions such as lstm_cell_3_layer_call_fn, lstm_cell_3_layer_call_and_return_conditional_losses, lstm_cell_layer_call_fn, lstm_cell_layer_call_and_return_conditional_losses, lstm_cell_4_layer_call_fn while saving (showing 5 of 35). These functions will not be directly callable after loading.\n"
          ],
          "name": "stderr"
        },
        {
          "output_type": "stream",
          "text": [
            "INFO:tensorflow:Assets written to: /content/drive/My Drive/new/assets\n"
          ],
          "name": "stdout"
        },
        {
          "output_type": "stream",
          "text": [
            "INFO:tensorflow:Assets written to: /content/drive/My Drive/new/assets\n"
          ],
          "name": "stderr"
        },
        {
          "output_type": "stream",
          "text": [
            "Epoch 5/50\n",
            "1303/1303 [==============================] - 429s 329ms/step - loss: 0.2442 - mse: 0.2340 - val_loss: 0.2421 - val_mse: 0.2336\n",
            "\n",
            "Epoch 00005: val_mse improved from 0.24005 to 0.23362, saving model to /content/drive/My Drive/new/\n"
          ],
          "name": "stdout"
        },
        {
          "output_type": "stream",
          "text": [
            "WARNING:absl:Found untraced functions such as lstm_cell_3_layer_call_fn, lstm_cell_3_layer_call_and_return_conditional_losses, lstm_cell_layer_call_fn, lstm_cell_layer_call_and_return_conditional_losses, lstm_cell_4_layer_call_fn while saving (showing 5 of 35). These functions will not be directly callable after loading.\n",
            "WARNING:absl:Found untraced functions such as lstm_cell_3_layer_call_fn, lstm_cell_3_layer_call_and_return_conditional_losses, lstm_cell_layer_call_fn, lstm_cell_layer_call_and_return_conditional_losses, lstm_cell_4_layer_call_fn while saving (showing 5 of 35). These functions will not be directly callable after loading.\n"
          ],
          "name": "stderr"
        },
        {
          "output_type": "stream",
          "text": [
            "INFO:tensorflow:Assets written to: /content/drive/My Drive/new/assets\n"
          ],
          "name": "stdout"
        },
        {
          "output_type": "stream",
          "text": [
            "INFO:tensorflow:Assets written to: /content/drive/My Drive/new/assets\n"
          ],
          "name": "stderr"
        },
        {
          "output_type": "stream",
          "text": [
            "Epoch 6/50\n",
            "1303/1303 [==============================] - 429s 329ms/step - loss: 0.2379 - mse: 0.2299 - val_loss: 0.2411 - val_mse: 0.2339\n",
            "\n",
            "Epoch 00006: val_mse did not improve from 0.23362\n",
            "Epoch 7/50\n",
            "1303/1303 [==============================] - 428s 329ms/step - loss: 0.2311 - mse: 0.2246 - val_loss: 0.2321 - val_mse: 0.2262\n",
            "\n",
            "Epoch 00007: val_mse improved from 0.23362 to 0.22624, saving model to /content/drive/My Drive/new/\n"
          ],
          "name": "stdout"
        },
        {
          "output_type": "stream",
          "text": [
            "WARNING:absl:Found untraced functions such as lstm_cell_3_layer_call_fn, lstm_cell_3_layer_call_and_return_conditional_losses, lstm_cell_layer_call_fn, lstm_cell_layer_call_and_return_conditional_losses, lstm_cell_4_layer_call_fn while saving (showing 5 of 35). These functions will not be directly callable after loading.\n",
            "WARNING:absl:Found untraced functions such as lstm_cell_3_layer_call_fn, lstm_cell_3_layer_call_and_return_conditional_losses, lstm_cell_layer_call_fn, lstm_cell_layer_call_and_return_conditional_losses, lstm_cell_4_layer_call_fn while saving (showing 5 of 35). These functions will not be directly callable after loading.\n"
          ],
          "name": "stderr"
        },
        {
          "output_type": "stream",
          "text": [
            "INFO:tensorflow:Assets written to: /content/drive/My Drive/new/assets\n"
          ],
          "name": "stdout"
        },
        {
          "output_type": "stream",
          "text": [
            "INFO:tensorflow:Assets written to: /content/drive/My Drive/new/assets\n"
          ],
          "name": "stderr"
        },
        {
          "output_type": "stream",
          "text": [
            "Epoch 8/50\n",
            "1303/1303 [==============================] - 437s 335ms/step - loss: 0.2281 - mse: 0.2225 - val_loss: 0.2302 - val_mse: 0.2253\n",
            "\n",
            "Epoch 00008: val_mse improved from 0.22624 to 0.22534, saving model to /content/drive/My Drive/new/\n"
          ],
          "name": "stdout"
        },
        {
          "output_type": "stream",
          "text": [
            "WARNING:absl:Found untraced functions such as lstm_cell_3_layer_call_fn, lstm_cell_3_layer_call_and_return_conditional_losses, lstm_cell_layer_call_fn, lstm_cell_layer_call_and_return_conditional_losses, lstm_cell_4_layer_call_fn while saving (showing 5 of 35). These functions will not be directly callable after loading.\n",
            "WARNING:absl:Found untraced functions such as lstm_cell_3_layer_call_fn, lstm_cell_3_layer_call_and_return_conditional_losses, lstm_cell_layer_call_fn, lstm_cell_layer_call_and_return_conditional_losses, lstm_cell_4_layer_call_fn while saving (showing 5 of 35). These functions will not be directly callable after loading.\n"
          ],
          "name": "stderr"
        },
        {
          "output_type": "stream",
          "text": [
            "INFO:tensorflow:Assets written to: /content/drive/My Drive/new/assets\n"
          ],
          "name": "stdout"
        },
        {
          "output_type": "stream",
          "text": [
            "INFO:tensorflow:Assets written to: /content/drive/My Drive/new/assets\n"
          ],
          "name": "stderr"
        },
        {
          "output_type": "stream",
          "text": [
            "Epoch 9/50\n",
            "1303/1303 [==============================] - 436s 334ms/step - loss: 0.2246 - mse: 0.2198 - val_loss: 0.2269 - val_mse: 0.2226\n",
            "\n",
            "Epoch 00009: val_mse improved from 0.22534 to 0.22257, saving model to /content/drive/My Drive/new/\n"
          ],
          "name": "stdout"
        },
        {
          "output_type": "stream",
          "text": [
            "WARNING:absl:Found untraced functions such as lstm_cell_3_layer_call_fn, lstm_cell_3_layer_call_and_return_conditional_losses, lstm_cell_layer_call_fn, lstm_cell_layer_call_and_return_conditional_losses, lstm_cell_4_layer_call_fn while saving (showing 5 of 35). These functions will not be directly callable after loading.\n",
            "WARNING:absl:Found untraced functions such as lstm_cell_3_layer_call_fn, lstm_cell_3_layer_call_and_return_conditional_losses, lstm_cell_layer_call_fn, lstm_cell_layer_call_and_return_conditional_losses, lstm_cell_4_layer_call_fn while saving (showing 5 of 35). These functions will not be directly callable after loading.\n"
          ],
          "name": "stderr"
        },
        {
          "output_type": "stream",
          "text": [
            "INFO:tensorflow:Assets written to: /content/drive/My Drive/new/assets\n"
          ],
          "name": "stdout"
        },
        {
          "output_type": "stream",
          "text": [
            "INFO:tensorflow:Assets written to: /content/drive/My Drive/new/assets\n"
          ],
          "name": "stderr"
        },
        {
          "output_type": "stream",
          "text": [
            "Epoch 10/50\n",
            "1303/1303 [==============================] - 433s 333ms/step - loss: 0.2205 - mse: 0.2163 - val_loss: 0.2270 - val_mse: 0.2229\n",
            "\n",
            "Epoch 00010: val_mse did not improve from 0.22257\n",
            "Epoch 11/50\n",
            "1303/1303 [==============================] - 435s 334ms/step - loss: 0.2180 - mse: 0.2142 - val_loss: 0.2229 - val_mse: 0.2195\n",
            "\n",
            "Epoch 00011: val_mse improved from 0.22257 to 0.21951, saving model to /content/drive/My Drive/new/\n"
          ],
          "name": "stdout"
        },
        {
          "output_type": "stream",
          "text": [
            "WARNING:absl:Found untraced functions such as lstm_cell_3_layer_call_fn, lstm_cell_3_layer_call_and_return_conditional_losses, lstm_cell_layer_call_fn, lstm_cell_layer_call_and_return_conditional_losses, lstm_cell_4_layer_call_fn while saving (showing 5 of 35). These functions will not be directly callable after loading.\n",
            "WARNING:absl:Found untraced functions such as lstm_cell_3_layer_call_fn, lstm_cell_3_layer_call_and_return_conditional_losses, lstm_cell_layer_call_fn, lstm_cell_layer_call_and_return_conditional_losses, lstm_cell_4_layer_call_fn while saving (showing 5 of 35). These functions will not be directly callable after loading.\n"
          ],
          "name": "stderr"
        },
        {
          "output_type": "stream",
          "text": [
            "INFO:tensorflow:Assets written to: /content/drive/My Drive/new/assets\n"
          ],
          "name": "stdout"
        },
        {
          "output_type": "stream",
          "text": [
            "INFO:tensorflow:Assets written to: /content/drive/My Drive/new/assets\n"
          ],
          "name": "stderr"
        },
        {
          "output_type": "stream",
          "text": [
            "Epoch 12/50\n",
            "1303/1303 [==============================] - 434s 333ms/step - loss: 0.2159 - mse: 0.2125 - val_loss: 0.2220 - val_mse: 0.2189\n",
            "\n",
            "Epoch 00012: val_mse improved from 0.21951 to 0.21886, saving model to /content/drive/My Drive/new/\n"
          ],
          "name": "stdout"
        },
        {
          "output_type": "stream",
          "text": [
            "WARNING:absl:Found untraced functions such as lstm_cell_3_layer_call_fn, lstm_cell_3_layer_call_and_return_conditional_losses, lstm_cell_layer_call_fn, lstm_cell_layer_call_and_return_conditional_losses, lstm_cell_4_layer_call_fn while saving (showing 5 of 35). These functions will not be directly callable after loading.\n",
            "WARNING:absl:Found untraced functions such as lstm_cell_3_layer_call_fn, lstm_cell_3_layer_call_and_return_conditional_losses, lstm_cell_layer_call_fn, lstm_cell_layer_call_and_return_conditional_losses, lstm_cell_4_layer_call_fn while saving (showing 5 of 35). These functions will not be directly callable after loading.\n"
          ],
          "name": "stderr"
        },
        {
          "output_type": "stream",
          "text": [
            "INFO:tensorflow:Assets written to: /content/drive/My Drive/new/assets\n"
          ],
          "name": "stdout"
        },
        {
          "output_type": "stream",
          "text": [
            "INFO:tensorflow:Assets written to: /content/drive/My Drive/new/assets\n"
          ],
          "name": "stderr"
        },
        {
          "output_type": "stream",
          "text": [
            "Epoch 13/50\n",
            "1303/1303 [==============================] - 434s 333ms/step - loss: 0.2145 - mse: 0.2114 - val_loss: 0.2237 - val_mse: 0.2206\n",
            "\n",
            "Epoch 00013: val_mse did not improve from 0.21886\n",
            "Epoch 14/50\n",
            "1303/1303 [==============================] - 435s 334ms/step - loss: 0.2124 - mse: 0.2093 - val_loss: 0.2252 - val_mse: 0.2223\n",
            "\n",
            "Epoch 00014: val_mse did not improve from 0.21886\n",
            "Epoch 15/50\n",
            "1303/1303 [==============================] - 435s 334ms/step - loss: 0.2104 - mse: 0.2075 - val_loss: 0.2232 - val_mse: 0.2204\n",
            "\n",
            "Epoch 00015: val_mse did not improve from 0.21886\n",
            "Epoch 16/50\n",
            "1303/1303 [==============================] - 435s 334ms/step - loss: 0.2100 - mse: 0.2071 - val_loss: 0.2190 - val_mse: 0.2162\n",
            "\n",
            "Epoch 00016: val_mse improved from 0.21886 to 0.21624, saving model to /content/drive/My Drive/new/\n"
          ],
          "name": "stdout"
        },
        {
          "output_type": "stream",
          "text": [
            "WARNING:absl:Found untraced functions such as lstm_cell_3_layer_call_fn, lstm_cell_3_layer_call_and_return_conditional_losses, lstm_cell_layer_call_fn, lstm_cell_layer_call_and_return_conditional_losses, lstm_cell_4_layer_call_fn while saving (showing 5 of 35). These functions will not be directly callable after loading.\n",
            "WARNING:absl:Found untraced functions such as lstm_cell_3_layer_call_fn, lstm_cell_3_layer_call_and_return_conditional_losses, lstm_cell_layer_call_fn, lstm_cell_layer_call_and_return_conditional_losses, lstm_cell_4_layer_call_fn while saving (showing 5 of 35). These functions will not be directly callable after loading.\n"
          ],
          "name": "stderr"
        },
        {
          "output_type": "stream",
          "text": [
            "INFO:tensorflow:Assets written to: /content/drive/My Drive/new/assets\n"
          ],
          "name": "stdout"
        },
        {
          "output_type": "stream",
          "text": [
            "INFO:tensorflow:Assets written to: /content/drive/My Drive/new/assets\n"
          ],
          "name": "stderr"
        },
        {
          "output_type": "stream",
          "text": [
            "Epoch 17/50\n",
            "1303/1303 [==============================] - 435s 334ms/step - loss: 0.2079 - mse: 0.2052 - val_loss: 0.2202 - val_mse: 0.2175\n",
            "\n",
            "Epoch 00017: val_mse did not improve from 0.21624\n",
            "Epoch 18/50\n",
            "1303/1303 [==============================] - 436s 334ms/step - loss: 0.2069 - mse: 0.2042 - val_loss: 0.2188 - val_mse: 0.2162\n",
            "\n",
            "Epoch 00018: val_mse improved from 0.21624 to 0.21621, saving model to /content/drive/My Drive/new/\n"
          ],
          "name": "stdout"
        },
        {
          "output_type": "stream",
          "text": [
            "WARNING:absl:Found untraced functions such as lstm_cell_3_layer_call_fn, lstm_cell_3_layer_call_and_return_conditional_losses, lstm_cell_layer_call_fn, lstm_cell_layer_call_and_return_conditional_losses, lstm_cell_4_layer_call_fn while saving (showing 5 of 35). These functions will not be directly callable after loading.\n",
            "WARNING:absl:Found untraced functions such as lstm_cell_3_layer_call_fn, lstm_cell_3_layer_call_and_return_conditional_losses, lstm_cell_layer_call_fn, lstm_cell_layer_call_and_return_conditional_losses, lstm_cell_4_layer_call_fn while saving (showing 5 of 35). These functions will not be directly callable after loading.\n"
          ],
          "name": "stderr"
        },
        {
          "output_type": "stream",
          "text": [
            "INFO:tensorflow:Assets written to: /content/drive/My Drive/new/assets\n"
          ],
          "name": "stdout"
        },
        {
          "output_type": "stream",
          "text": [
            "INFO:tensorflow:Assets written to: /content/drive/My Drive/new/assets\n"
          ],
          "name": "stderr"
        },
        {
          "output_type": "stream",
          "text": [
            "Epoch 19/50\n",
            "1303/1303 [==============================] - 435s 334ms/step - loss: 0.2059 - mse: 0.2033 - val_loss: 0.2171 - val_mse: 0.2146\n",
            "\n",
            "Epoch 00019: val_mse improved from 0.21621 to 0.21463, saving model to /content/drive/My Drive/new/\n"
          ],
          "name": "stdout"
        },
        {
          "output_type": "stream",
          "text": [
            "WARNING:absl:Found untraced functions such as lstm_cell_3_layer_call_fn, lstm_cell_3_layer_call_and_return_conditional_losses, lstm_cell_layer_call_fn, lstm_cell_layer_call_and_return_conditional_losses, lstm_cell_4_layer_call_fn while saving (showing 5 of 35). These functions will not be directly callable after loading.\n",
            "WARNING:absl:Found untraced functions such as lstm_cell_3_layer_call_fn, lstm_cell_3_layer_call_and_return_conditional_losses, lstm_cell_layer_call_fn, lstm_cell_layer_call_and_return_conditional_losses, lstm_cell_4_layer_call_fn while saving (showing 5 of 35). These functions will not be directly callable after loading.\n"
          ],
          "name": "stderr"
        },
        {
          "output_type": "stream",
          "text": [
            "INFO:tensorflow:Assets written to: /content/drive/My Drive/new/assets\n"
          ],
          "name": "stdout"
        },
        {
          "output_type": "stream",
          "text": [
            "INFO:tensorflow:Assets written to: /content/drive/My Drive/new/assets\n"
          ],
          "name": "stderr"
        },
        {
          "output_type": "stream",
          "text": [
            "Epoch 20/50\n",
            "1303/1303 [==============================] - 435s 334ms/step - loss: 0.2046 - mse: 0.2020 - val_loss: 0.2208 - val_mse: 0.2183\n",
            "\n",
            "Epoch 00020: val_mse did not improve from 0.21463\n",
            "Epoch 21/50\n",
            "1303/1303 [==============================] - 435s 334ms/step - loss: 0.2043 - mse: 0.2018 - val_loss: 0.2165 - val_mse: 0.2139\n",
            "\n",
            "Epoch 00021: val_mse improved from 0.21463 to 0.21389, saving model to /content/drive/My Drive/new/\n"
          ],
          "name": "stdout"
        },
        {
          "output_type": "stream",
          "text": [
            "WARNING:absl:Found untraced functions such as lstm_cell_3_layer_call_fn, lstm_cell_3_layer_call_and_return_conditional_losses, lstm_cell_layer_call_fn, lstm_cell_layer_call_and_return_conditional_losses, lstm_cell_4_layer_call_fn while saving (showing 5 of 35). These functions will not be directly callable after loading.\n",
            "WARNING:absl:Found untraced functions such as lstm_cell_3_layer_call_fn, lstm_cell_3_layer_call_and_return_conditional_losses, lstm_cell_layer_call_fn, lstm_cell_layer_call_and_return_conditional_losses, lstm_cell_4_layer_call_fn while saving (showing 5 of 35). These functions will not be directly callable after loading.\n"
          ],
          "name": "stderr"
        },
        {
          "output_type": "stream",
          "text": [
            "INFO:tensorflow:Assets written to: /content/drive/My Drive/new/assets\n"
          ],
          "name": "stdout"
        },
        {
          "output_type": "stream",
          "text": [
            "INFO:tensorflow:Assets written to: /content/drive/My Drive/new/assets\n"
          ],
          "name": "stderr"
        },
        {
          "output_type": "stream",
          "text": [
            "Epoch 22/50\n",
            "1303/1303 [==============================] - 436s 334ms/step - loss: 0.2032 - mse: 0.2007 - val_loss: 0.2159 - val_mse: 0.2134\n",
            "\n",
            "Epoch 00022: val_mse improved from 0.21389 to 0.21341, saving model to /content/drive/My Drive/new/\n"
          ],
          "name": "stdout"
        },
        {
          "output_type": "stream",
          "text": [
            "WARNING:absl:Found untraced functions such as lstm_cell_3_layer_call_fn, lstm_cell_3_layer_call_and_return_conditional_losses, lstm_cell_layer_call_fn, lstm_cell_layer_call_and_return_conditional_losses, lstm_cell_4_layer_call_fn while saving (showing 5 of 35). These functions will not be directly callable after loading.\n",
            "WARNING:absl:Found untraced functions such as lstm_cell_3_layer_call_fn, lstm_cell_3_layer_call_and_return_conditional_losses, lstm_cell_layer_call_fn, lstm_cell_layer_call_and_return_conditional_losses, lstm_cell_4_layer_call_fn while saving (showing 5 of 35). These functions will not be directly callable after loading.\n"
          ],
          "name": "stderr"
        },
        {
          "output_type": "stream",
          "text": [
            "INFO:tensorflow:Assets written to: /content/drive/My Drive/new/assets\n"
          ],
          "name": "stdout"
        },
        {
          "output_type": "stream",
          "text": [
            "INFO:tensorflow:Assets written to: /content/drive/My Drive/new/assets\n"
          ],
          "name": "stderr"
        },
        {
          "output_type": "stream",
          "text": [
            "Epoch 23/50\n",
            "1303/1303 [==============================] - 434s 333ms/step - loss: 0.2019 - mse: 0.1993 - val_loss: 0.2155 - val_mse: 0.2130\n",
            "\n",
            "Epoch 00023: val_mse improved from 0.21341 to 0.21303, saving model to /content/drive/My Drive/new/\n"
          ],
          "name": "stdout"
        },
        {
          "output_type": "stream",
          "text": [
            "WARNING:absl:Found untraced functions such as lstm_cell_3_layer_call_fn, lstm_cell_3_layer_call_and_return_conditional_losses, lstm_cell_layer_call_fn, lstm_cell_layer_call_and_return_conditional_losses, lstm_cell_4_layer_call_fn while saving (showing 5 of 35). These functions will not be directly callable after loading.\n",
            "WARNING:absl:Found untraced functions such as lstm_cell_3_layer_call_fn, lstm_cell_3_layer_call_and_return_conditional_losses, lstm_cell_layer_call_fn, lstm_cell_layer_call_and_return_conditional_losses, lstm_cell_4_layer_call_fn while saving (showing 5 of 35). These functions will not be directly callable after loading.\n"
          ],
          "name": "stderr"
        },
        {
          "output_type": "stream",
          "text": [
            "INFO:tensorflow:Assets written to: /content/drive/My Drive/new/assets\n"
          ],
          "name": "stdout"
        },
        {
          "output_type": "stream",
          "text": [
            "INFO:tensorflow:Assets written to: /content/drive/My Drive/new/assets\n"
          ],
          "name": "stderr"
        },
        {
          "output_type": "stream",
          "text": [
            "Epoch 24/50\n",
            "1303/1303 [==============================] - 436s 334ms/step - loss: 0.2015 - mse: 0.1990 - val_loss: 0.2185 - val_mse: 0.2161\n",
            "\n",
            "Epoch 00024: val_mse did not improve from 0.21303\n",
            "Epoch 25/50\n",
            "1303/1303 [==============================] - 435s 334ms/step - loss: 0.2009 - mse: 0.1984 - val_loss: 0.2162 - val_mse: 0.2139\n",
            "\n",
            "Epoch 00025: val_mse did not improve from 0.21303\n",
            "Epoch 26/50\n",
            "1303/1303 [==============================] - 436s 335ms/step - loss: 0.1998 - mse: 0.1973 - val_loss: 0.2139 - val_mse: 0.2115\n",
            "\n",
            "Epoch 00026: val_mse improved from 0.21303 to 0.21150, saving model to /content/drive/My Drive/new/\n"
          ],
          "name": "stdout"
        },
        {
          "output_type": "stream",
          "text": [
            "WARNING:absl:Found untraced functions such as lstm_cell_3_layer_call_fn, lstm_cell_3_layer_call_and_return_conditional_losses, lstm_cell_layer_call_fn, lstm_cell_layer_call_and_return_conditional_losses, lstm_cell_4_layer_call_fn while saving (showing 5 of 35). These functions will not be directly callable after loading.\n",
            "WARNING:absl:Found untraced functions such as lstm_cell_3_layer_call_fn, lstm_cell_3_layer_call_and_return_conditional_losses, lstm_cell_layer_call_fn, lstm_cell_layer_call_and_return_conditional_losses, lstm_cell_4_layer_call_fn while saving (showing 5 of 35). These functions will not be directly callable after loading.\n"
          ],
          "name": "stderr"
        },
        {
          "output_type": "stream",
          "text": [
            "INFO:tensorflow:Assets written to: /content/drive/My Drive/new/assets\n"
          ],
          "name": "stdout"
        },
        {
          "output_type": "stream",
          "text": [
            "INFO:tensorflow:Assets written to: /content/drive/My Drive/new/assets\n"
          ],
          "name": "stderr"
        },
        {
          "output_type": "stream",
          "text": [
            "Epoch 27/50\n",
            "1303/1303 [==============================] - 436s 334ms/step - loss: 0.1985 - mse: 0.1961 - val_loss: 0.2148 - val_mse: 0.2125\n",
            "\n",
            "Epoch 00027: val_mse did not improve from 0.21150\n",
            "Epoch 28/50\n",
            "1303/1303 [==============================] - 436s 334ms/step - loss: 0.1987 - mse: 0.1963 - val_loss: 0.2175 - val_mse: 0.2151\n",
            "\n",
            "Epoch 00028: val_mse did not improve from 0.21150\n",
            "Epoch 29/50\n",
            "1303/1303 [==============================] - 437s 335ms/step - loss: 0.1979 - mse: 0.1955 - val_loss: 0.2156 - val_mse: 0.2132\n",
            "\n",
            "Epoch 00029: val_mse did not improve from 0.21150\n",
            "Epoch 30/50\n",
            "1303/1303 [==============================] - 437s 335ms/step - loss: 0.1972 - mse: 0.1948 - val_loss: 0.2170 - val_mse: 0.2145\n",
            "\n",
            "Epoch 00030: val_mse did not improve from 0.21150\n",
            "Epoch 31/50\n",
            "1303/1303 [==============================] - 437s 335ms/step - loss: 0.1970 - mse: 0.1946 - val_loss: 0.2151 - val_mse: 0.2127\n",
            "\n",
            "Epoch 00031: val_mse did not improve from 0.21150\n",
            "Epoch 32/50\n",
            "1303/1303 [==============================] - 436s 335ms/step - loss: 0.1961 - mse: 0.1937 - val_loss: 0.2176 - val_mse: 0.2153\n",
            "\n",
            "Epoch 00032: val_mse did not improve from 0.21150\n",
            "Epoch 33/50\n",
            "1303/1303 [==============================] - 437s 336ms/step - loss: 0.1952 - mse: 0.1929 - val_loss: 0.2150 - val_mse: 0.2128\n",
            "\n",
            "Epoch 00033: val_mse did not improve from 0.21150\n",
            "Epoch 34/50\n",
            "1303/1303 [==============================] - 436s 334ms/step - loss: 0.1948 - mse: 0.1926 - val_loss: 0.2139 - val_mse: 0.2116\n",
            "\n",
            "Epoch 00034: val_mse did not improve from 0.21150\n",
            "Epoch 35/50\n",
            "1303/1303 [==============================] - 437s 335ms/step - loss: 0.1945 - mse: 0.1922 - val_loss: 0.2137 - val_mse: 0.2114\n",
            "\n",
            "Epoch 00035: val_mse improved from 0.21150 to 0.21143, saving model to /content/drive/My Drive/new/\n"
          ],
          "name": "stdout"
        },
        {
          "output_type": "stream",
          "text": [
            "WARNING:absl:Found untraced functions such as lstm_cell_3_layer_call_fn, lstm_cell_3_layer_call_and_return_conditional_losses, lstm_cell_layer_call_fn, lstm_cell_layer_call_and_return_conditional_losses, lstm_cell_4_layer_call_fn while saving (showing 5 of 35). These functions will not be directly callable after loading.\n",
            "WARNING:absl:Found untraced functions such as lstm_cell_3_layer_call_fn, lstm_cell_3_layer_call_and_return_conditional_losses, lstm_cell_layer_call_fn, lstm_cell_layer_call_and_return_conditional_losses, lstm_cell_4_layer_call_fn while saving (showing 5 of 35). These functions will not be directly callable after loading.\n"
          ],
          "name": "stderr"
        },
        {
          "output_type": "stream",
          "text": [
            "INFO:tensorflow:Assets written to: /content/drive/My Drive/new/assets\n"
          ],
          "name": "stdout"
        },
        {
          "output_type": "stream",
          "text": [
            "INFO:tensorflow:Assets written to: /content/drive/My Drive/new/assets\n"
          ],
          "name": "stderr"
        },
        {
          "output_type": "stream",
          "text": [
            "Epoch 36/50\n",
            "1303/1303 [==============================] - 437s 335ms/step - loss: 0.1942 - mse: 0.1919 - val_loss: 0.2146 - val_mse: 0.2124\n",
            "\n",
            "Epoch 00036: val_mse did not improve from 0.21143\n",
            "Epoch 37/50\n",
            "1303/1303 [==============================] - 436s 335ms/step - loss: 0.1936 - mse: 0.1914 - val_loss: 0.2202 - val_mse: 0.2181\n",
            "\n",
            "Epoch 00037: val_mse did not improve from 0.21143\n",
            "Epoch 38/50\n",
            "1303/1303 [==============================] - 438s 336ms/step - loss: 0.1931 - mse: 0.1909 - val_loss: 0.2142 - val_mse: 0.2119\n",
            "\n",
            "Epoch 00038: val_mse did not improve from 0.21143\n",
            "Epoch 39/50\n",
            "1303/1303 [==============================] - 438s 336ms/step - loss: 0.1927 - mse: 0.1905 - val_loss: 0.2133 - val_mse: 0.2111\n",
            "\n",
            "Epoch 00039: val_mse improved from 0.21143 to 0.21111, saving model to /content/drive/My Drive/new/\n"
          ],
          "name": "stdout"
        },
        {
          "output_type": "stream",
          "text": [
            "WARNING:absl:Found untraced functions such as lstm_cell_3_layer_call_fn, lstm_cell_3_layer_call_and_return_conditional_losses, lstm_cell_layer_call_fn, lstm_cell_layer_call_and_return_conditional_losses, lstm_cell_4_layer_call_fn while saving (showing 5 of 35). These functions will not be directly callable after loading.\n",
            "WARNING:absl:Found untraced functions such as lstm_cell_3_layer_call_fn, lstm_cell_3_layer_call_and_return_conditional_losses, lstm_cell_layer_call_fn, lstm_cell_layer_call_and_return_conditional_losses, lstm_cell_4_layer_call_fn while saving (showing 5 of 35). These functions will not be directly callable after loading.\n"
          ],
          "name": "stderr"
        },
        {
          "output_type": "stream",
          "text": [
            "INFO:tensorflow:Assets written to: /content/drive/My Drive/new/assets\n"
          ],
          "name": "stdout"
        },
        {
          "output_type": "stream",
          "text": [
            "INFO:tensorflow:Assets written to: /content/drive/My Drive/new/assets\n"
          ],
          "name": "stderr"
        },
        {
          "output_type": "stream",
          "text": [
            "Epoch 40/50\n",
            "1303/1303 [==============================] - 437s 335ms/step - loss: 0.1924 - mse: 0.1902 - val_loss: 0.2172 - val_mse: 0.2150\n",
            "\n",
            "Epoch 00040: val_mse did not improve from 0.21111\n",
            "Epoch 41/50\n",
            "1303/1303 [==============================] - 438s 336ms/step - loss: 0.1915 - mse: 0.1893 - val_loss: 0.2141 - val_mse: 0.2119\n",
            "\n",
            "Epoch 00041: val_mse did not improve from 0.21111\n",
            "Epoch 42/50\n",
            "1303/1303 [==============================] - 437s 335ms/step - loss: 0.1916 - mse: 0.1894 - val_loss: 0.2140 - val_mse: 0.2117\n",
            "\n",
            "Epoch 00042: val_mse did not improve from 0.21111\n",
            "Epoch 43/50\n",
            "1303/1303 [==============================] - 437s 335ms/step - loss: 0.1913 - mse: 0.1891 - val_loss: 0.2147 - val_mse: 0.2125\n",
            "\n",
            "Epoch 00043: val_mse did not improve from 0.21111\n",
            "Epoch 44/50\n",
            "1303/1303 [==============================] - 436s 335ms/step - loss: 0.1905 - mse: 0.1883 - val_loss: 0.2130 - val_mse: 0.2108\n",
            "\n",
            "Epoch 00044: val_mse improved from 0.21111 to 0.21085, saving model to /content/drive/My Drive/new/\n"
          ],
          "name": "stdout"
        },
        {
          "output_type": "stream",
          "text": [
            "WARNING:absl:Found untraced functions such as lstm_cell_3_layer_call_fn, lstm_cell_3_layer_call_and_return_conditional_losses, lstm_cell_layer_call_fn, lstm_cell_layer_call_and_return_conditional_losses, lstm_cell_4_layer_call_fn while saving (showing 5 of 35). These functions will not be directly callable after loading.\n",
            "WARNING:absl:Found untraced functions such as lstm_cell_3_layer_call_fn, lstm_cell_3_layer_call_and_return_conditional_losses, lstm_cell_layer_call_fn, lstm_cell_layer_call_and_return_conditional_losses, lstm_cell_4_layer_call_fn while saving (showing 5 of 35). These functions will not be directly callable after loading.\n"
          ],
          "name": "stderr"
        },
        {
          "output_type": "stream",
          "text": [
            "INFO:tensorflow:Assets written to: /content/drive/My Drive/new/assets\n"
          ],
          "name": "stdout"
        },
        {
          "output_type": "stream",
          "text": [
            "INFO:tensorflow:Assets written to: /content/drive/My Drive/new/assets\n"
          ],
          "name": "stderr"
        },
        {
          "output_type": "stream",
          "text": [
            "Epoch 45/50\n",
            "1303/1303 [==============================] - 437s 335ms/step - loss: 0.1906 - mse: 0.1884 - val_loss: 0.2131 - val_mse: 0.2110\n",
            "\n",
            "Epoch 00045: val_mse did not improve from 0.21085\n",
            "Epoch 46/50\n",
            "1303/1303 [==============================] - 438s 336ms/step - loss: 0.1895 - mse: 0.1873 - val_loss: 0.2128 - val_mse: 0.2106\n",
            "\n",
            "Epoch 00046: val_mse improved from 0.21085 to 0.21064, saving model to /content/drive/My Drive/new/\n"
          ],
          "name": "stdout"
        },
        {
          "output_type": "stream",
          "text": [
            "WARNING:absl:Found untraced functions such as lstm_cell_3_layer_call_fn, lstm_cell_3_layer_call_and_return_conditional_losses, lstm_cell_layer_call_fn, lstm_cell_layer_call_and_return_conditional_losses, lstm_cell_4_layer_call_fn while saving (showing 5 of 35). These functions will not be directly callable after loading.\n",
            "WARNING:absl:Found untraced functions such as lstm_cell_3_layer_call_fn, lstm_cell_3_layer_call_and_return_conditional_losses, lstm_cell_layer_call_fn, lstm_cell_layer_call_and_return_conditional_losses, lstm_cell_4_layer_call_fn while saving (showing 5 of 35). These functions will not be directly callable after loading.\n"
          ],
          "name": "stderr"
        },
        {
          "output_type": "stream",
          "text": [
            "INFO:tensorflow:Assets written to: /content/drive/My Drive/new/assets\n"
          ],
          "name": "stdout"
        },
        {
          "output_type": "stream",
          "text": [
            "INFO:tensorflow:Assets written to: /content/drive/My Drive/new/assets\n"
          ],
          "name": "stderr"
        },
        {
          "output_type": "stream",
          "text": [
            "Epoch 47/50\n",
            "1303/1303 [==============================] - 437s 335ms/step - loss: 0.1892 - mse: 0.1871 - val_loss: 0.2156 - val_mse: 0.2135\n",
            "\n",
            "Epoch 00047: val_mse did not improve from 0.21064\n",
            "Epoch 48/50\n",
            "1303/1303 [==============================] - 438s 336ms/step - loss: 0.1891 - mse: 0.1870 - val_loss: 0.2128 - val_mse: 0.2106\n",
            "\n",
            "Epoch 00048: val_mse improved from 0.21064 to 0.21063, saving model to /content/drive/My Drive/new/\n"
          ],
          "name": "stdout"
        },
        {
          "output_type": "stream",
          "text": [
            "WARNING:absl:Found untraced functions such as lstm_cell_3_layer_call_fn, lstm_cell_3_layer_call_and_return_conditional_losses, lstm_cell_layer_call_fn, lstm_cell_layer_call_and_return_conditional_losses, lstm_cell_4_layer_call_fn while saving (showing 5 of 35). These functions will not be directly callable after loading.\n",
            "WARNING:absl:Found untraced functions such as lstm_cell_3_layer_call_fn, lstm_cell_3_layer_call_and_return_conditional_losses, lstm_cell_layer_call_fn, lstm_cell_layer_call_and_return_conditional_losses, lstm_cell_4_layer_call_fn while saving (showing 5 of 35). These functions will not be directly callable after loading.\n"
          ],
          "name": "stderr"
        },
        {
          "output_type": "stream",
          "text": [
            "INFO:tensorflow:Assets written to: /content/drive/My Drive/new/assets\n"
          ],
          "name": "stdout"
        },
        {
          "output_type": "stream",
          "text": [
            "INFO:tensorflow:Assets written to: /content/drive/My Drive/new/assets\n"
          ],
          "name": "stderr"
        },
        {
          "output_type": "stream",
          "text": [
            "Epoch 49/50\n",
            "1303/1303 [==============================] - 436s 334ms/step - loss: 0.1890 - mse: 0.1869 - val_loss: 0.2126 - val_mse: 0.2105\n",
            "\n",
            "Epoch 00049: val_mse improved from 0.21063 to 0.21048, saving model to /content/drive/My Drive/new/\n"
          ],
          "name": "stdout"
        },
        {
          "output_type": "stream",
          "text": [
            "WARNING:absl:Found untraced functions such as lstm_cell_3_layer_call_fn, lstm_cell_3_layer_call_and_return_conditional_losses, lstm_cell_layer_call_fn, lstm_cell_layer_call_and_return_conditional_losses, lstm_cell_4_layer_call_fn while saving (showing 5 of 35). These functions will not be directly callable after loading.\n",
            "WARNING:absl:Found untraced functions such as lstm_cell_3_layer_call_fn, lstm_cell_3_layer_call_and_return_conditional_losses, lstm_cell_layer_call_fn, lstm_cell_layer_call_and_return_conditional_losses, lstm_cell_4_layer_call_fn while saving (showing 5 of 35). These functions will not be directly callable after loading.\n"
          ],
          "name": "stderr"
        },
        {
          "output_type": "stream",
          "text": [
            "INFO:tensorflow:Assets written to: /content/drive/My Drive/new/assets\n"
          ],
          "name": "stdout"
        },
        {
          "output_type": "stream",
          "text": [
            "INFO:tensorflow:Assets written to: /content/drive/My Drive/new/assets\n"
          ],
          "name": "stderr"
        },
        {
          "output_type": "stream",
          "text": [
            "Epoch 50/50\n",
            "1303/1303 [==============================] - 439s 337ms/step - loss: 0.1884 - mse: 0.1863 - val_loss: 0.2143 - val_mse: 0.2122\n",
            "\n",
            "Epoch 00050: val_mse did not improve from 0.21048\n"
          ],
          "name": "stdout"
        },
        {
          "output_type": "execute_result",
          "data": {
            "text/plain": [
              "<tensorflow.python.keras.callbacks.History at 0x7fdd5a9df908>"
            ]
          },
          "metadata": {
            "tags": []
          },
          "execution_count": 37
        }
      ]
    },
    {
      "cell_type": "code",
      "metadata": {
        "id": "P_DrUp6MFOV5",
        "colab": {
          "base_uri": "https://localhost:8080/"
        },
        "outputId": "89868bf3-641c-4804-f54f-9c9b32c6bc10"
      },
      "source": [
        "# save model\r\n",
        "model5.save(\"/content/drive/My Drive/new/model6.h5\")\r\n",
        "print(\"Saved model to disk\")"
      ],
      "execution_count": null,
      "outputs": [
        {
          "output_type": "stream",
          "text": [
            "Saved model to disk\n"
          ],
          "name": "stdout"
        }
      ]
    },
    {
      "cell_type": "code",
      "metadata": {
        "id": "IpkJRB8R4eVg"
      },
      "source": [
        "X_test = pd.read_csv('/content/drive/My Drive/new/test_stg2.tsv', sep='\\t')\r\n",
        "test_ids = X_test['test_id'].values"
      ],
      "execution_count": 18,
      "outputs": []
    },
    {
      "cell_type": "code",
      "metadata": {
        "id": "69KIqRzRFa-Y"
      },
      "source": [
        "y_pred=model5.predict(cv_2)"
      ],
      "execution_count": null,
      "outputs": []
    },
    {
      "cell_type": "code",
      "metadata": {
        "id": "BQP8RToL1GU-"
      },
      "source": [
        "name_test,text_test=handle_text(X_test)"
      ],
      "execution_count": 22,
      "outputs": []
    },
    {
      "cell_type": "code",
      "metadata": {
        "id": "-dDla6n653P-"
      },
      "source": [
        "\r\n",
        "def one_hot_encoder_test( valid):\r\n",
        "    '''\r\n",
        "    This function returns the One Hot Encoded vectors for the given train and CV data\r\n",
        "    Input ->\r\n",
        "        train_data : Training data to be one hot encoded (List of integers/strings or a Pandas Series)\r\n",
        "        cv_data    : Cross Validation data to be one hot encoded (List of integers/strings or a Pandas Series)\r\n",
        "    Output -> Tuple of One hot encoded vectors of training and CV data\r\n",
        "    Task   -> This function converts the raw values (integers/strings) into one hot encoded vectors using\r\n",
        "              sklearn's OneHotEncoder()\r\n",
        "    '''\r\n",
        "   \r\n",
        "    \r\n",
        "    valid_shipvec = vectorizer3.transform(valid['shipping'].values.reshape(-1, 1))\r\n",
        "\r\n",
        "    valid_conditionvec = vectorizer4.transform(valid['item_condition_id'].values.reshape(-1, 1))\r\n",
        "\r\n",
        "    X_valid = hstack((valid_shipvec, valid_conditionvec)).tocsr()\r\n",
        "    \r\n",
        "\r\n",
        "    return X_valid\r\n"
      ],
      "execution_count": 19,
      "outputs": []
    },
    {
      "cell_type": "code",
      "metadata": {
        "id": "ct0qwaqG3pL2"
      },
      "source": [
        "X_te=one_hot_encoder_test( X_test)\r\n",
        "X_te=X_te.todense()"
      ],
      "execution_count": 20,
      "outputs": []
    },
    {
      "cell_type": "code",
      "metadata": {
        "id": "SpGH2P7c2J0U"
      },
      "source": [
        "max_length=300\r\n",
        "#https://subscription.packtpub.com/book/application_development/9781782167853/1/ch01lvl1sec10/tokenizing-sentences-into-words\r\n",
        "global t_1\r\n",
        "t_1 = Tokenizer()\r\n",
        "t_1.fit_on_texts(name_train)\r\n",
        "#https://subscription.packtpub.com/book/application_development/9781782167853/1/ch01lvl1sec10/tokenizing-sentences-into-words\r\n",
        "global t_2\r\n",
        "t_2 = Tokenizer()\r\n",
        "t_2.fit_on_texts(text_train)\r\n",
        "encoded_test_desc = t_2.texts_to_sequences(text_test)\r\n",
        "padded_test_desc = pad_sequences(encoded_test_desc, maxlen=max_length, padding='post')\r\n",
        "encoded_test=t_1.texts_to_sequences(name_test)\r\n",
        "padded_test=pad_sequences(encoded_test, maxlen=max_length, padding='post')\r\n"
      ],
      "execution_count": 23,
      "outputs": []
    },
    {
      "cell_type": "code",
      "metadata": {
        "id": "T4D17Oc18QOD"
      },
      "source": [
        "del encoded_cv\r\n",
        "del encoded_cv_desc\r\n",
        "del encoded_train\r\n",
        "del encoded_train_desc"
      ],
      "execution_count": null,
      "outputs": []
    },
    {
      "cell_type": "code",
      "metadata": {
        "id": "CJMByCw_7YTc"
      },
      "source": [
        "\r\n",
        "del train_2\r\n",
        "del cv_2"
      ],
      "execution_count": null,
      "outputs": []
    },
    {
      "cell_type": "code",
      "metadata": {
        "colab": {
          "base_uri": "https://localhost:8080/"
        },
        "id": "Q2vaR4lE8rib",
        "outputId": "ebf41a71-fc00-4d61-88d6-5b03bd0c4635"
      },
      "source": [
        "gc.collect()"
      ],
      "execution_count": null,
      "outputs": [
        {
          "output_type": "execute_result",
          "data": {
            "text/plain": [
              "90"
            ]
          },
          "metadata": {
            "tags": []
          },
          "execution_count": 48
        }
      ]
    },
    {
      "cell_type": "code",
      "metadata": {
        "id": "NN5fiI5V79IG"
      },
      "source": [
        "test_2 = [padded_test,padded_test_desc,X_te]"
      ],
      "execution_count": 25,
      "outputs": []
    },
    {
      "cell_type": "code",
      "metadata": {
        "id": "iA6m4S06855h"
      },
      "source": [
        "y_pred=model5.predict(test_2)"
      ],
      "execution_count": null,
      "outputs": []
    },
    {
      "cell_type": "code",
      "metadata": {
        "id": "GiUUjT26Egcm"
      },
      "source": [
        "df = pd.DataFrame() \r\n",
        "df['test_ids']=test_ids\r\n",
        "df['price']=np.expm1(y_pred)"
      ],
      "execution_count": null,
      "outputs": []
    },
    {
      "cell_type": "code",
      "metadata": {
        "id": "blLPBgZjFW3g"
      },
      "source": [
        "df.to_csv(\"/content/drive/My Drive/new/submit.csv\")"
      ],
      "execution_count": null,
      "outputs": []
    },
    {
      "cell_type": "code",
      "metadata": {
        "id": "X_YbmHz3FsvQ"
      },
      "source": [
        "print(\"file saved\")"
      ],
      "execution_count": null,
      "outputs": []
    },
    {
      "cell_type": "code",
      "metadata": {
        "id": "HtgfwiJa1-o2",
        "colab": {
          "base_uri": "https://localhost:8080/"
        },
        "outputId": "3ff2e836-4883-4d67-f798-408a73ede06e"
      },
      "source": [
        "from keras.models import load_model\r\n",
        "# load model\r\n",
        "model =  load_model('/content/drive/My Drive/new/model6.h5')\r\n",
        "# summarize model.\r\n",
        "model.summary()"
      ],
      "execution_count": 24,
      "outputs": [
        {
          "output_type": "stream",
          "text": [
            "Model: \"model\"\n",
            "__________________________________________________________________________________________________\n",
            "Layer (type)                    Output Shape         Param #     Connected to                     \n",
            "==================================================================================================\n",
            "desc (InputLayer)               [(None, 300)]        0                                            \n",
            "__________________________________________________________________________________________________\n",
            "name (InputLayer)               [(None, 300)]        0                                            \n",
            "__________________________________________________________________________________________________\n",
            "embedding_1 (Embedding)         (None, 300, 300)     73264200    desc[0][0]                       \n",
            "__________________________________________________________________________________________________\n",
            "embedding (Embedding)           (None, 300, 300)     33599100    name[0][0]                       \n",
            "__________________________________________________________________________________________________\n",
            "lstm_3 (LSTM)                   (None, 300, 20)      25680       embedding_1[0][0]                \n",
            "__________________________________________________________________________________________________\n",
            "lstm (LSTM)                     (None, 300, 20)      25680       embedding[0][0]                  \n",
            "__________________________________________________________________________________________________\n",
            "lstm_4 (LSTM)                   (None, 300, 20)      3280        lstm_3[0][0]                     \n",
            "__________________________________________________________________________________________________\n",
            "block_1 (Conv1D)                (None, 298, 32)      1952        lstm[0][0]                       \n",
            "__________________________________________________________________________________________________\n",
            "block_3 (Conv1D)                (None, 298, 32)      1952        lstm_4[0][0]                     \n",
            "__________________________________________________________________________________________________\n",
            "lstm_1 (LSTM)                   (None, 298, 10)      1720        block_1[0][0]                    \n",
            "__________________________________________________________________________________________________\n",
            "lstm_5 (LSTM)                   (None, 298, 20)      4240        block_3[0][0]                    \n",
            "__________________________________________________________________________________________________\n",
            "other (InputLayer)              [(None, 7)]          0                                            \n",
            "__________________________________________________________________________________________________\n",
            "block_2 (Conv1D)                (None, 296, 16)      496         lstm_1[0][0]                     \n",
            "__________________________________________________________________________________________________\n",
            "block_4 (Conv1D)                (None, 296, 16)      976         lstm_5[0][0]                     \n",
            "__________________________________________________________________________________________________\n",
            "dense (Dense)                   (None, 256)          2048        other[0][0]                      \n",
            "__________________________________________________________________________________________________\n",
            "lstm_2 (LSTM)                   (None, 296, 10)      1080        block_2[0][0]                    \n",
            "__________________________________________________________________________________________________\n",
            "lstm_6 (LSTM)                   (None, 296, 20)      2960        block_4[0][0]                    \n",
            "__________________________________________________________________________________________________\n",
            "dense_1 (Dense)                 (None, 64)           16448       dense[0][0]                      \n",
            "__________________________________________________________________________________________________\n",
            "flatten (Flatten)               (None, 2960)         0           lstm_2[0][0]                     \n",
            "__________________________________________________________________________________________________\n",
            "flatten_1 (Flatten)             (None, 5920)         0           lstm_6[0][0]                     \n",
            "__________________________________________________________________________________________________\n",
            "dense_2 (Dense)                 (None, 64)           4160        dense_1[0][0]                    \n",
            "__________________________________________________________________________________________________\n",
            "concatenate (Concatenate)       (None, 8944)         0           flatten[0][0]                    \n",
            "                                                                 flatten_1[0][0]                  \n",
            "                                                                 dense_2[0][0]                    \n",
            "__________________________________________________________________________________________________\n",
            "dense_3 (Dense)                 (None, 256)          2289920     concatenate[0][0]                \n",
            "__________________________________________________________________________________________________\n",
            "dense_4 (Dense)                 (None, 32)           8224        dense_3[0][0]                    \n",
            "__________________________________________________________________________________________________\n",
            "dense_5 (Dense)                 (None, 64)           2112        dense_4[0][0]                    \n",
            "__________________________________________________________________________________________________\n",
            "dense_6 (Dense)                 (None, 1)            65          dense_5[0][0]                    \n",
            "==================================================================================================\n",
            "Total params: 109,256,293\n",
            "Trainable params: 2,392,993\n",
            "Non-trainable params: 106,863,300\n",
            "__________________________________________________________________________________________________\n"
          ],
          "name": "stdout"
        }
      ]
    },
    {
      "cell_type": "code",
      "metadata": {
        "id": "Ra1TZGWH7r0C",
        "colab": {
          "base_uri": "https://localhost:8080/",
          "height": 629
        },
        "outputId": "39c1d4f6-1c64-47f2-dec3-c942446bf4ed"
      },
      "source": [
        "#model1=tf.keras.models.load_model('/content/drive/My Drive/new/model6.h5')\r\n",
        "model.compile(optimizer='adam', loss='mean_squared_error', metrics=['mse'])\r\n",
        "y_pred=model.predict(test_2,batch_size=1024)"
      ],
      "execution_count": 31,
      "outputs": [
        {
          "output_type": "error",
          "ename": "InvalidArgumentError",
          "evalue": "ignored",
          "traceback": [
            "\u001b[0;31m---------------------------------------------------------------------------\u001b[0m",
            "\u001b[0;31mInvalidArgumentError\u001b[0m                      Traceback (most recent call last)",
            "\u001b[0;32m<ipython-input-31-6824233f4bd3>\u001b[0m in \u001b[0;36m<module>\u001b[0;34m()\u001b[0m\n\u001b[1;32m      1\u001b[0m \u001b[0;31m#model1=tf.keras.models.load_model('/content/drive/My Drive/new/model6.h5')\u001b[0m\u001b[0;34m\u001b[0m\u001b[0;34m\u001b[0m\u001b[0;34m\u001b[0m\u001b[0m\n\u001b[1;32m      2\u001b[0m \u001b[0mmodel\u001b[0m\u001b[0;34m.\u001b[0m\u001b[0mcompile\u001b[0m\u001b[0;34m(\u001b[0m\u001b[0moptimizer\u001b[0m\u001b[0;34m=\u001b[0m\u001b[0;34m'adam'\u001b[0m\u001b[0;34m,\u001b[0m \u001b[0mloss\u001b[0m\u001b[0;34m=\u001b[0m\u001b[0;34m'mean_squared_error'\u001b[0m\u001b[0;34m,\u001b[0m \u001b[0mmetrics\u001b[0m\u001b[0;34m=\u001b[0m\u001b[0;34m[\u001b[0m\u001b[0;34m'mse'\u001b[0m\u001b[0;34m]\u001b[0m\u001b[0;34m)\u001b[0m\u001b[0;34m\u001b[0m\u001b[0;34m\u001b[0m\u001b[0m\n\u001b[0;32m----> 3\u001b[0;31m \u001b[0my_pred\u001b[0m\u001b[0;34m=\u001b[0m\u001b[0mmodel\u001b[0m\u001b[0;34m.\u001b[0m\u001b[0mpredict\u001b[0m\u001b[0;34m(\u001b[0m\u001b[0mtest_2\u001b[0m\u001b[0;34m,\u001b[0m\u001b[0mbatch_size\u001b[0m\u001b[0;34m=\u001b[0m\u001b[0;36m1024\u001b[0m\u001b[0;34m)\u001b[0m\u001b[0;34m\u001b[0m\u001b[0;34m\u001b[0m\u001b[0m\n\u001b[0m",
            "\u001b[0;32m/usr/local/lib/python3.6/dist-packages/tensorflow/python/keras/engine/training.py\u001b[0m in \u001b[0;36mpredict\u001b[0;34m(self, x, batch_size, verbose, steps, callbacks, max_queue_size, workers, use_multiprocessing)\u001b[0m\n\u001b[1;32m   1627\u001b[0m           \u001b[0;32mfor\u001b[0m \u001b[0mstep\u001b[0m \u001b[0;32min\u001b[0m \u001b[0mdata_handler\u001b[0m\u001b[0;34m.\u001b[0m\u001b[0msteps\u001b[0m\u001b[0;34m(\u001b[0m\u001b[0;34m)\u001b[0m\u001b[0;34m:\u001b[0m\u001b[0;34m\u001b[0m\u001b[0;34m\u001b[0m\u001b[0m\n\u001b[1;32m   1628\u001b[0m             \u001b[0mcallbacks\u001b[0m\u001b[0;34m.\u001b[0m\u001b[0mon_predict_batch_begin\u001b[0m\u001b[0;34m(\u001b[0m\u001b[0mstep\u001b[0m\u001b[0;34m)\u001b[0m\u001b[0;34m\u001b[0m\u001b[0;34m\u001b[0m\u001b[0m\n\u001b[0;32m-> 1629\u001b[0;31m             \u001b[0mtmp_batch_outputs\u001b[0m \u001b[0;34m=\u001b[0m \u001b[0mself\u001b[0m\u001b[0;34m.\u001b[0m\u001b[0mpredict_function\u001b[0m\u001b[0;34m(\u001b[0m\u001b[0miterator\u001b[0m\u001b[0;34m)\u001b[0m\u001b[0;34m\u001b[0m\u001b[0;34m\u001b[0m\u001b[0m\n\u001b[0m\u001b[1;32m   1630\u001b[0m             \u001b[0;32mif\u001b[0m \u001b[0mdata_handler\u001b[0m\u001b[0;34m.\u001b[0m\u001b[0mshould_sync\u001b[0m\u001b[0;34m:\u001b[0m\u001b[0;34m\u001b[0m\u001b[0;34m\u001b[0m\u001b[0m\n\u001b[1;32m   1631\u001b[0m               \u001b[0mcontext\u001b[0m\u001b[0;34m.\u001b[0m\u001b[0masync_wait\u001b[0m\u001b[0;34m(\u001b[0m\u001b[0;34m)\u001b[0m\u001b[0;34m\u001b[0m\u001b[0;34m\u001b[0m\u001b[0m\n",
            "\u001b[0;32m/usr/local/lib/python3.6/dist-packages/tensorflow/python/eager/def_function.py\u001b[0m in \u001b[0;36m__call__\u001b[0;34m(self, *args, **kwds)\u001b[0m\n\u001b[1;32m    826\u001b[0m     \u001b[0mtracing_count\u001b[0m \u001b[0;34m=\u001b[0m \u001b[0mself\u001b[0m\u001b[0;34m.\u001b[0m\u001b[0mexperimental_get_tracing_count\u001b[0m\u001b[0;34m(\u001b[0m\u001b[0;34m)\u001b[0m\u001b[0;34m\u001b[0m\u001b[0;34m\u001b[0m\u001b[0m\n\u001b[1;32m    827\u001b[0m     \u001b[0;32mwith\u001b[0m \u001b[0mtrace\u001b[0m\u001b[0;34m.\u001b[0m\u001b[0mTrace\u001b[0m\u001b[0;34m(\u001b[0m\u001b[0mself\u001b[0m\u001b[0;34m.\u001b[0m\u001b[0m_name\u001b[0m\u001b[0;34m)\u001b[0m \u001b[0;32mas\u001b[0m \u001b[0mtm\u001b[0m\u001b[0;34m:\u001b[0m\u001b[0;34m\u001b[0m\u001b[0;34m\u001b[0m\u001b[0m\n\u001b[0;32m--> 828\u001b[0;31m       \u001b[0mresult\u001b[0m \u001b[0;34m=\u001b[0m \u001b[0mself\u001b[0m\u001b[0;34m.\u001b[0m\u001b[0m_call\u001b[0m\u001b[0;34m(\u001b[0m\u001b[0;34m*\u001b[0m\u001b[0margs\u001b[0m\u001b[0;34m,\u001b[0m \u001b[0;34m**\u001b[0m\u001b[0mkwds\u001b[0m\u001b[0;34m)\u001b[0m\u001b[0;34m\u001b[0m\u001b[0;34m\u001b[0m\u001b[0m\n\u001b[0m\u001b[1;32m    829\u001b[0m       \u001b[0mcompiler\u001b[0m \u001b[0;34m=\u001b[0m \u001b[0;34m\"xla\"\u001b[0m \u001b[0;32mif\u001b[0m \u001b[0mself\u001b[0m\u001b[0;34m.\u001b[0m\u001b[0m_experimental_compile\u001b[0m \u001b[0;32melse\u001b[0m \u001b[0;34m\"nonXla\"\u001b[0m\u001b[0;34m\u001b[0m\u001b[0;34m\u001b[0m\u001b[0m\n\u001b[1;32m    830\u001b[0m       \u001b[0mnew_tracing_count\u001b[0m \u001b[0;34m=\u001b[0m \u001b[0mself\u001b[0m\u001b[0;34m.\u001b[0m\u001b[0mexperimental_get_tracing_count\u001b[0m\u001b[0;34m(\u001b[0m\u001b[0;34m)\u001b[0m\u001b[0;34m\u001b[0m\u001b[0;34m\u001b[0m\u001b[0m\n",
            "\u001b[0;32m/usr/local/lib/python3.6/dist-packages/tensorflow/python/eager/def_function.py\u001b[0m in \u001b[0;36m_call\u001b[0;34m(self, *args, **kwds)\u001b[0m\n\u001b[1;32m    893\u001b[0m       \u001b[0;31m# If we did not create any variables the trace we have is good enough.\u001b[0m\u001b[0;34m\u001b[0m\u001b[0;34m\u001b[0m\u001b[0;34m\u001b[0m\u001b[0m\n\u001b[1;32m    894\u001b[0m       return self._concrete_stateful_fn._call_flat(\n\u001b[0;32m--> 895\u001b[0;31m           filtered_flat_args, self._concrete_stateful_fn.captured_inputs)  # pylint: disable=protected-access\n\u001b[0m\u001b[1;32m    896\u001b[0m \u001b[0;34m\u001b[0m\u001b[0m\n\u001b[1;32m    897\u001b[0m     \u001b[0;32mdef\u001b[0m \u001b[0mfn_with_cond\u001b[0m\u001b[0;34m(\u001b[0m\u001b[0minner_args\u001b[0m\u001b[0;34m,\u001b[0m \u001b[0minner_kwds\u001b[0m\u001b[0;34m,\u001b[0m \u001b[0minner_filtered_flat_args\u001b[0m\u001b[0;34m)\u001b[0m\u001b[0;34m:\u001b[0m\u001b[0;34m\u001b[0m\u001b[0;34m\u001b[0m\u001b[0m\n",
            "\u001b[0;32m/usr/local/lib/python3.6/dist-packages/tensorflow/python/eager/function.py\u001b[0m in \u001b[0;36m_call_flat\u001b[0;34m(self, args, captured_inputs, cancellation_manager)\u001b[0m\n\u001b[1;32m   1917\u001b[0m       \u001b[0;31m# No tape is watching; skip to running the function.\u001b[0m\u001b[0;34m\u001b[0m\u001b[0;34m\u001b[0m\u001b[0;34m\u001b[0m\u001b[0m\n\u001b[1;32m   1918\u001b[0m       return self._build_call_outputs(self._inference_function.call(\n\u001b[0;32m-> 1919\u001b[0;31m           ctx, args, cancellation_manager=cancellation_manager))\n\u001b[0m\u001b[1;32m   1920\u001b[0m     forward_backward = self._select_forward_and_backward_functions(\n\u001b[1;32m   1921\u001b[0m         \u001b[0margs\u001b[0m\u001b[0;34m,\u001b[0m\u001b[0;34m\u001b[0m\u001b[0;34m\u001b[0m\u001b[0m\n",
            "\u001b[0;32m/usr/local/lib/python3.6/dist-packages/tensorflow/python/eager/function.py\u001b[0m in \u001b[0;36mcall\u001b[0;34m(self, ctx, args, cancellation_manager)\u001b[0m\n\u001b[1;32m    558\u001b[0m               \u001b[0minputs\u001b[0m\u001b[0;34m=\u001b[0m\u001b[0margs\u001b[0m\u001b[0;34m,\u001b[0m\u001b[0;34m\u001b[0m\u001b[0;34m\u001b[0m\u001b[0m\n\u001b[1;32m    559\u001b[0m               \u001b[0mattrs\u001b[0m\u001b[0;34m=\u001b[0m\u001b[0mattrs\u001b[0m\u001b[0;34m,\u001b[0m\u001b[0;34m\u001b[0m\u001b[0;34m\u001b[0m\u001b[0m\n\u001b[0;32m--> 560\u001b[0;31m               ctx=ctx)\n\u001b[0m\u001b[1;32m    561\u001b[0m         \u001b[0;32melse\u001b[0m\u001b[0;34m:\u001b[0m\u001b[0;34m\u001b[0m\u001b[0;34m\u001b[0m\u001b[0m\n\u001b[1;32m    562\u001b[0m           outputs = execute.execute_with_cancellation(\n",
            "\u001b[0;32m/usr/local/lib/python3.6/dist-packages/tensorflow/python/eager/execute.py\u001b[0m in \u001b[0;36mquick_execute\u001b[0;34m(op_name, num_outputs, inputs, attrs, ctx, name)\u001b[0m\n\u001b[1;32m     58\u001b[0m     \u001b[0mctx\u001b[0m\u001b[0;34m.\u001b[0m\u001b[0mensure_initialized\u001b[0m\u001b[0;34m(\u001b[0m\u001b[0;34m)\u001b[0m\u001b[0;34m\u001b[0m\u001b[0;34m\u001b[0m\u001b[0m\n\u001b[1;32m     59\u001b[0m     tensors = pywrap_tfe.TFE_Py_Execute(ctx._handle, device_name, op_name,\n\u001b[0;32m---> 60\u001b[0;31m                                         inputs, attrs, num_outputs)\n\u001b[0m\u001b[1;32m     61\u001b[0m   \u001b[0;32mexcept\u001b[0m \u001b[0mcore\u001b[0m\u001b[0;34m.\u001b[0m\u001b[0m_NotOkStatusException\u001b[0m \u001b[0;32mas\u001b[0m \u001b[0me\u001b[0m\u001b[0;34m:\u001b[0m\u001b[0;34m\u001b[0m\u001b[0;34m\u001b[0m\u001b[0m\n\u001b[1;32m     62\u001b[0m     \u001b[0;32mif\u001b[0m \u001b[0mname\u001b[0m \u001b[0;32mis\u001b[0m \u001b[0;32mnot\u001b[0m \u001b[0;32mNone\u001b[0m\u001b[0;34m:\u001b[0m\u001b[0;34m\u001b[0m\u001b[0;34m\u001b[0m\u001b[0m\n",
            "\u001b[0;31mInvalidArgumentError\u001b[0m: 2 root error(s) found.\n  (0) Invalid argument:  indices[714,4] = 244443 is not in [0, 244214)\n\t [[node model/embedding_1/embedding_lookup (defined at <ipython-input-31-6824233f4bd3>:3) ]]\n\t [[model/embedding_1/embedding_lookup/_14]]\n  (1) Invalid argument:  indices[714,4] = 244443 is not in [0, 244214)\n\t [[node model/embedding_1/embedding_lookup (defined at <ipython-input-31-6824233f4bd3>:3) ]]\n0 successful operations.\n0 derived errors ignored. [Op:__inference_predict_function_22041]\n\nErrors may have originated from an input operation.\nInput Source operations connected to node model/embedding_1/embedding_lookup:\n model/embedding_1/embedding_lookup/18873 (defined at /usr/lib/python3.6/contextlib.py:81)\n\nInput Source operations connected to node model/embedding_1/embedding_lookup:\n model/embedding_1/embedding_lookup/18873 (defined at /usr/lib/python3.6/contextlib.py:81)\n\nFunction call stack:\npredict_function -> predict_function\n"
          ]
        }
      ]
    }
  ]
}